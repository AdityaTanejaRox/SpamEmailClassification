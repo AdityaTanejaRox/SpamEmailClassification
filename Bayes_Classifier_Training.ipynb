{
  "cells": [
    {
      "cell_type": "markdown",
      "metadata": {
        "id": "view-in-github",
        "colab_type": "text"
      },
      "source": [
        "<a href=\"https://colab.research.google.com/github/AdityaTanejaRox/SpamEmailClassification/blob/main/Bayes_Classifier_Training.ipynb\" target=\"_parent\"><img src=\"https://colab.research.google.com/assets/colab-badge.svg\" alt=\"Open In Colab\"/></a>"
      ]
    },
    {
      "cell_type": "markdown",
      "id": "ad6632f9-1ac0-46f3-830b-4c26b640ba23",
      "metadata": {
        "id": "ad6632f9-1ac0-46f3-830b-4c26b640ba23"
      },
      "source": [
        "**#NOTEBOOK IMPORTS**"
      ]
    },
    {
      "cell_type": "code",
      "execution_count": null,
      "id": "4aa6906f-f4c1-4b3a-ab38-1952873c174f",
      "metadata": {
        "id": "4aa6906f-f4c1-4b3a-ab38-1952873c174f"
      },
      "outputs": [],
      "source": [
        "import pandas as pd\n",
        "import numpy as np"
      ]
    },
    {
      "cell_type": "markdown",
      "id": "87233ee5-0810-4307-8ae9-dd083c00ffc9",
      "metadata": {
        "id": "87233ee5-0810-4307-8ae9-dd083c00ffc9"
      },
      "source": [
        "**#CONSTANTS**"
      ]
    },
    {
      "cell_type": "code",
      "execution_count": null,
      "id": "05416091-7b80-4976-8d61-73eb1bea7cc8",
      "metadata": {
        "id": "05416091-7b80-4976-8d61-73eb1bea7cc8"
      },
      "outputs": [],
      "source": [
        "TRAINING_DATA_FILE = 'SpamData/02_Training/train-data.txt'\n",
        "TEST_DATA_FILE = 'SpamData/02_Training/test-data.txt'\n",
        "\n",
        "TOKEN_SPAM_PROB_FILE = 'SpamData/03_Testing/prob-spam.txt'\n",
        "TOKEN_HAM_PROB_FILE = 'SpamData/03_Testing/prob-ham.txt'\n",
        "TOKEN_ALL_PROB_FILE = 'SpamData/03_Testing/prob-all-tokens.txt'\n",
        "\n",
        "TEST_FEARURE_MATRIX = 'SpamData/03_Testing/test-features.txt'\n",
        "TEST_TARGET_FILE = 'SpamData/03_Testing/test-target.txt'\n",
        "\n",
        "VOCAB_SIZE = 2500"
      ]
    },
    {
      "cell_type": "markdown",
      "id": "8249520c-989c-43f5-97dc-68b1499e6e56",
      "metadata": {
        "id": "8249520c-989c-43f5-97dc-68b1499e6e56"
      },
      "source": [
        "**#READ AND LOAD FEATURES FROM TXT FILES INTO NP ARRAY**"
      ]
    },
    {
      "cell_type": "code",
      "execution_count": null,
      "id": "491a3b01-f7c1-42ad-82a1-6a2187689b09",
      "metadata": {
        "id": "491a3b01-f7c1-42ad-82a1-6a2187689b09"
      },
      "outputs": [],
      "source": [
        "sparse_train_data = np.loadtxt(TRAINING_DATA_FILE, delimiter=' ', dtype=int)"
      ]
    },
    {
      "cell_type": "code",
      "execution_count": null,
      "id": "cf5abd1c-649f-43f9-b6a5-09fdef104082",
      "metadata": {
        "id": "cf5abd1c-649f-43f9-b6a5-09fdef104082"
      },
      "outputs": [],
      "source": [
        "sparse_test_data = np.loadtxt(TEST_DATA_FILE, delimiter=' ', dtype=int)"
      ]
    },
    {
      "cell_type": "code",
      "execution_count": null,
      "id": "c3b6d22d-f669-4bc0-a4ed-cfbccc2d9147",
      "metadata": {
        "id": "c3b6d22d-f669-4bc0-a4ed-cfbccc2d9147",
        "outputId": "858a4ed9-8e31-44fe-f77c-c7c1456b778f"
      },
      "outputs": [
        {
          "data": {
            "text/plain": [
              "array([[ 0,  2,  1,  1],\n",
              "       [ 0,  3,  1,  2],\n",
              "       [ 0,  4,  1,  1],\n",
              "       [ 0,  7,  1,  3],\n",
              "       [ 0, 11,  1,  1]])"
            ]
          },
          "execution_count": 6,
          "metadata": {},
          "output_type": "execute_result"
        }
      ],
      "source": [
        "sparse_train_data[:5]"
      ]
    },
    {
      "cell_type": "code",
      "execution_count": null,
      "id": "b4753c07-78d0-46a7-b2ab-fa374d813ad0",
      "metadata": {
        "id": "b4753c07-78d0-46a7-b2ab-fa374d813ad0",
        "outputId": "b45166f1-f59a-41df-d5f3-50d14b8a40aa"
      },
      "outputs": [
        {
          "data": {
            "text/plain": [
              "array([[5798, 2030,    0,    1],\n",
              "       [5798, 2033,    0,    2],\n",
              "       [5798, 2278,    0,    1],\n",
              "       [5798, 2342,    0,    1],\n",
              "       [5798, 2372,    0,    1]])"
            ]
          },
          "execution_count": 7,
          "metadata": {},
          "output_type": "execute_result"
        }
      ],
      "source": [
        "sparse_train_data[-5:]"
      ]
    },
    {
      "cell_type": "code",
      "execution_count": null,
      "id": "23740e33-75bf-4dfa-8eca-9ef91f9cb174",
      "metadata": {
        "id": "23740e33-75bf-4dfa-8eca-9ef91f9cb174",
        "outputId": "1a0c0a67-a1a6-4579-9ef5-c13ec0818b9f"
      },
      "outputs": [
        {
          "name": "stdout",
          "output_type": "stream",
          "text": [
            "No.of rows in training file: 262774\n",
            "No.of rows in testing file: 111952\n"
          ]
        }
      ],
      "source": [
        "print('No.of rows in training file:', sparse_train_data.shape[0])\n",
        "print('No.of rows in testing file:', sparse_test_data.shape[0])"
      ]
    },
    {
      "cell_type": "code",
      "execution_count": null,
      "id": "20cc76b0-abca-4a59-a379-63a99f5f56ae",
      "metadata": {
        "id": "20cc76b0-abca-4a59-a379-63a99f5f56ae",
        "outputId": "a38bb262-25cd-427c-da55-fee5875705bb"
      },
      "outputs": [
        {
          "name": "stdout",
          "output_type": "stream",
          "text": [
            "No.of Emails in training file: 4012\n"
          ]
        }
      ],
      "source": [
        "print('No.of Emails in training file:', np.unique(sparse_train_data[:, 0]).size)#selecr all the rows in 1st column"
      ]
    },
    {
      "cell_type": "code",
      "execution_count": null,
      "id": "e465a4f6-87d8-417b-9b60-f90a8da7ccfc",
      "metadata": {
        "id": "e465a4f6-87d8-417b-9b60-f90a8da7ccfc",
        "outputId": "639f869c-02dc-409a-f725-d4da907d65ea"
      },
      "outputs": [
        {
          "name": "stdout",
          "output_type": "stream",
          "text": [
            "No.of Emails in testing file: 1725\n"
          ]
        }
      ],
      "source": [
        "print('No.of Emails in testing file:', np.unique(sparse_test_data[:, 0]).size)#selecr all the rows in 1st column"
      ]
    },
    {
      "cell_type": "markdown",
      "id": "6b55fb17-12d5-4e87-bebd-5b03569401ff",
      "metadata": {
        "id": "6b55fb17-12d5-4e87-bebd-5b03569401ff"
      },
      "source": [
        "**CREATING AN EMPTY DATAFRAME**"
      ]
    },
    {
      "cell_type": "code",
      "execution_count": null,
      "id": "2ebf9bb4-75fb-4f84-810d-33b88455f191",
      "metadata": {
        "id": "2ebf9bb4-75fb-4f84-810d-33b88455f191",
        "outputId": "07323ab1-afae-4975-d32b-19aec317740a"
      },
      "outputs": [
        {
          "data": {
            "text/plain": [
              "['DOC_ID', 'CATEGORY', 0, 1, 2]"
            ]
          },
          "execution_count": 11,
          "metadata": {},
          "output_type": "execute_result"
        }
      ],
      "source": [
        "column_names = ['DOC_ID'] + ['CATEGORY'] + list(range(0, VOCAB_SIZE))\n",
        "column_names[:5]"
      ]
    },
    {
      "cell_type": "code",
      "execution_count": null,
      "id": "9a7d4f90-6801-49bf-abf9-026f37fdbf05",
      "metadata": {
        "id": "9a7d4f90-6801-49bf-abf9-026f37fdbf05",
        "outputId": "9ce8b383-dea4-415b-8e76-19fba7123025"
      },
      "outputs": [
        {
          "data": {
            "text/plain": [
              "array([   0,    1,    2, ..., 5796, 5797, 5798])"
            ]
          },
          "execution_count": 12,
          "metadata": {},
          "output_type": "execute_result"
        }
      ],
      "source": [
        "index_names = np.unique(sparse_train_data[:, 0])\n",
        "index_names"
      ]
    },
    {
      "cell_type": "code",
      "execution_count": null,
      "id": "2d121a7e-9961-4e03-9315-42c5550991d8",
      "metadata": {
        "id": "2d121a7e-9961-4e03-9315-42c5550991d8"
      },
      "outputs": [],
      "source": [
        "full_train_data = pd.DataFrame(index=index_names, columns=column_names)\n",
        "full_train_data.fillna(value=0, inplace=True)"
      ]
    },
    {
      "cell_type": "code",
      "execution_count": null,
      "id": "e99a329e-776c-4a7a-9466-4205096e7284",
      "metadata": {
        "id": "e99a329e-776c-4a7a-9466-4205096e7284",
        "outputId": "526f5819-9696-4798-d822-919851776730"
      },
      "outputs": [
        {
          "data": {
            "text/html": [
              "<div>\n",
              "<style scoped>\n",
              "    .dataframe tbody tr th:only-of-type {\n",
              "        vertical-align: middle;\n",
              "    }\n",
              "\n",
              "    .dataframe tbody tr th {\n",
              "        vertical-align: top;\n",
              "    }\n",
              "\n",
              "    .dataframe thead th {\n",
              "        text-align: right;\n",
              "    }\n",
              "</style>\n",
              "<table border=\"1\" class=\"dataframe\">\n",
              "  <thead>\n",
              "    <tr style=\"text-align: right;\">\n",
              "      <th></th>\n",
              "      <th>DOC_ID</th>\n",
              "      <th>CATEGORY</th>\n",
              "      <th>0</th>\n",
              "      <th>1</th>\n",
              "      <th>2</th>\n",
              "      <th>3</th>\n",
              "      <th>4</th>\n",
              "      <th>5</th>\n",
              "      <th>6</th>\n",
              "      <th>7</th>\n",
              "      <th>...</th>\n",
              "      <th>2490</th>\n",
              "      <th>2491</th>\n",
              "      <th>2492</th>\n",
              "      <th>2493</th>\n",
              "      <th>2494</th>\n",
              "      <th>2495</th>\n",
              "      <th>2496</th>\n",
              "      <th>2497</th>\n",
              "      <th>2498</th>\n",
              "      <th>2499</th>\n",
              "    </tr>\n",
              "  </thead>\n",
              "  <tbody>\n",
              "    <tr>\n",
              "      <th>0</th>\n",
              "      <td>0</td>\n",
              "      <td>0</td>\n",
              "      <td>0</td>\n",
              "      <td>0</td>\n",
              "      <td>0</td>\n",
              "      <td>0</td>\n",
              "      <td>0</td>\n",
              "      <td>0</td>\n",
              "      <td>0</td>\n",
              "      <td>0</td>\n",
              "      <td>...</td>\n",
              "      <td>0</td>\n",
              "      <td>0</td>\n",
              "      <td>0</td>\n",
              "      <td>0</td>\n",
              "      <td>0</td>\n",
              "      <td>0</td>\n",
              "      <td>0</td>\n",
              "      <td>0</td>\n",
              "      <td>0</td>\n",
              "      <td>0</td>\n",
              "    </tr>\n",
              "    <tr>\n",
              "      <th>1</th>\n",
              "      <td>0</td>\n",
              "      <td>0</td>\n",
              "      <td>0</td>\n",
              "      <td>0</td>\n",
              "      <td>0</td>\n",
              "      <td>0</td>\n",
              "      <td>0</td>\n",
              "      <td>0</td>\n",
              "      <td>0</td>\n",
              "      <td>0</td>\n",
              "      <td>...</td>\n",
              "      <td>0</td>\n",
              "      <td>0</td>\n",
              "      <td>0</td>\n",
              "      <td>0</td>\n",
              "      <td>0</td>\n",
              "      <td>0</td>\n",
              "      <td>0</td>\n",
              "      <td>0</td>\n",
              "      <td>0</td>\n",
              "      <td>0</td>\n",
              "    </tr>\n",
              "    <tr>\n",
              "      <th>2</th>\n",
              "      <td>0</td>\n",
              "      <td>0</td>\n",
              "      <td>0</td>\n",
              "      <td>0</td>\n",
              "      <td>0</td>\n",
              "      <td>0</td>\n",
              "      <td>0</td>\n",
              "      <td>0</td>\n",
              "      <td>0</td>\n",
              "      <td>0</td>\n",
              "      <td>...</td>\n",
              "      <td>0</td>\n",
              "      <td>0</td>\n",
              "      <td>0</td>\n",
              "      <td>0</td>\n",
              "      <td>0</td>\n",
              "      <td>0</td>\n",
              "      <td>0</td>\n",
              "      <td>0</td>\n",
              "      <td>0</td>\n",
              "      <td>0</td>\n",
              "    </tr>\n",
              "    <tr>\n",
              "      <th>3</th>\n",
              "      <td>0</td>\n",
              "      <td>0</td>\n",
              "      <td>0</td>\n",
              "      <td>0</td>\n",
              "      <td>0</td>\n",
              "      <td>0</td>\n",
              "      <td>0</td>\n",
              "      <td>0</td>\n",
              "      <td>0</td>\n",
              "      <td>0</td>\n",
              "      <td>...</td>\n",
              "      <td>0</td>\n",
              "      <td>0</td>\n",
              "      <td>0</td>\n",
              "      <td>0</td>\n",
              "      <td>0</td>\n",
              "      <td>0</td>\n",
              "      <td>0</td>\n",
              "      <td>0</td>\n",
              "      <td>0</td>\n",
              "      <td>0</td>\n",
              "    </tr>\n",
              "    <tr>\n",
              "      <th>4</th>\n",
              "      <td>0</td>\n",
              "      <td>0</td>\n",
              "      <td>0</td>\n",
              "      <td>0</td>\n",
              "      <td>0</td>\n",
              "      <td>0</td>\n",
              "      <td>0</td>\n",
              "      <td>0</td>\n",
              "      <td>0</td>\n",
              "      <td>0</td>\n",
              "      <td>...</td>\n",
              "      <td>0</td>\n",
              "      <td>0</td>\n",
              "      <td>0</td>\n",
              "      <td>0</td>\n",
              "      <td>0</td>\n",
              "      <td>0</td>\n",
              "      <td>0</td>\n",
              "      <td>0</td>\n",
              "      <td>0</td>\n",
              "      <td>0</td>\n",
              "    </tr>\n",
              "  </tbody>\n",
              "</table>\n",
              "<p>5 rows × 2502 columns</p>\n",
              "</div>"
            ],
            "text/plain": [
              "   DOC_ID  CATEGORY  0  1  2  3  4  5  6  7  ...  2490  2491  2492  2493  \\\n",
              "0       0         0  0  0  0  0  0  0  0  0  ...     0     0     0     0   \n",
              "1       0         0  0  0  0  0  0  0  0  0  ...     0     0     0     0   \n",
              "2       0         0  0  0  0  0  0  0  0  0  ...     0     0     0     0   \n",
              "3       0         0  0  0  0  0  0  0  0  0  ...     0     0     0     0   \n",
              "4       0         0  0  0  0  0  0  0  0  0  ...     0     0     0     0   \n",
              "\n",
              "   2494  2495  2496  2497  2498  2499  \n",
              "0     0     0     0     0     0     0  \n",
              "1     0     0     0     0     0     0  \n",
              "2     0     0     0     0     0     0  \n",
              "3     0     0     0     0     0     0  \n",
              "4     0     0     0     0     0     0  \n",
              "\n",
              "[5 rows x 2502 columns]"
            ]
          },
          "execution_count": 14,
          "metadata": {},
          "output_type": "execute_result"
        }
      ],
      "source": [
        "full_train_data.head()"
      ]
    },
    {
      "cell_type": "code",
      "execution_count": null,
      "id": "04e9ae8e-ffcf-4adf-b904-508ba69b7522",
      "metadata": {
        "id": "04e9ae8e-ffcf-4adf-b904-508ba69b7522",
        "outputId": "5c34f077-6ba8-4dc1-f7b0-7391a32bb059"
      },
      "outputs": [
        {
          "data": {
            "text/plain": [
              "1"
            ]
          },
          "execution_count": 15,
          "metadata": {},
          "output_type": "execute_result"
        }
      ],
      "source": [
        "sparse_train_data[10][3]"
      ]
    },
    {
      "cell_type": "markdown",
      "id": "6db43831-15ce-4ecd-be20-ebf0485fa7f8",
      "metadata": {
        "id": "6db43831-15ce-4ecd-be20-ebf0485fa7f8"
      },
      "source": [
        "**#CREATE FULL MATRIX FROM SPARSE MATRIX**"
      ]
    },
    {
      "cell_type": "code",
      "execution_count": null,
      "id": "2a0691c3-e9bc-4bac-9914-6fca3f771004",
      "metadata": {
        "id": "2a0691c3-e9bc-4bac-9914-6fca3f771004"
      },
      "outputs": [],
      "source": [
        "def make_full_matrix(sparse_matrix, nr_words, doc_idx=0, word_idx=1, cat_idx=2, freq_idx=3):\n",
        "    \"\"\"Form a full matrix from sparse matrix.\n",
        "        Returns a pandas dataframe.\n",
        "        Keyword Arguements:\n",
        "        sparse_matrix -- numpy array.\n",
        "        nr_words -- size of vocabulary. Total No.of tokens.\n",
        "        doc_idx -- position of document in the sparse_matrix. Default:1st column.\n",
        "        word_idx -- position of the word in the sparse_matrix. Default:2nd column.\n",
        "        cat_idx -- position of the label (1:spam, 2:nonspam). Default:3rd column.\n",
        "        freq_idx -- position of occurrence of word in sparse_matrix. Default:4th column.\"\"\"\n",
        "  \n",
        "    column_names = ['DOC_ID'] + ['CATEGORY'] + list(range(0, VOCAB_SIZE))\n",
        "    doc_id_names = np.unique(sparse_matrix[:, 0])\n",
        "    full_matrix = pd.DataFrame(index=doc_id_names, columns=column_names)\n",
        "    full_matrix.fillna(value=0, inplace=True)\n",
        " \n",
        "    for i in range(sparse_matrix.shape[0]):\n",
        "        doc_nr = sparse_matrix[i][doc_idx]\n",
        "        word_id = sparse_matrix[i][word_idx]\n",
        "        label = sparse_matrix[i][cat_idx]\n",
        "        occurrence = sparse_matrix[i][freq_idx]\n",
        "        \n",
        "        full_matrix.at[doc_nr, 'DOC_ID'] = doc_nr\n",
        "        full_matrix.at[doc_nr, 'CATEGORY'] = label\n",
        "        full_matrix.at[doc_nr, word_id] = occurrence\n",
        "        \n",
        "    full_matrix.set_index('DOC_ID', inplace=True)    \n",
        "    return full_matrix"
      ]
    },
    {
      "cell_type": "code",
      "execution_count": null,
      "id": "e0849e8c-8088-4f96-89e2-660e1a56b883",
      "metadata": {
        "id": "e0849e8c-8088-4f96-89e2-660e1a56b883",
        "outputId": "c6eeb8cc-980b-4f77-e81a-b40afd38825a"
      },
      "outputs": [
        {
          "name": "stdout",
          "output_type": "stream",
          "text": [
            "Wall time: 38.2 s\n"
          ]
        }
      ],
      "source": [
        "%%time\n",
        "full_train_data = make_full_matrix(sparse_train_data, VOCAB_SIZE)"
      ]
    },
    {
      "cell_type": "code",
      "execution_count": null,
      "id": "95c09e7c-b124-4d28-923c-42e773c18328",
      "metadata": {
        "id": "95c09e7c-b124-4d28-923c-42e773c18328",
        "outputId": "aa270f26-ba10-4772-d236-df791a146e88"
      },
      "outputs": [
        {
          "data": {
            "text/html": [
              "<div>\n",
              "<style scoped>\n",
              "    .dataframe tbody tr th:only-of-type {\n",
              "        vertical-align: middle;\n",
              "    }\n",
              "\n",
              "    .dataframe tbody tr th {\n",
              "        vertical-align: top;\n",
              "    }\n",
              "\n",
              "    .dataframe thead th {\n",
              "        text-align: right;\n",
              "    }\n",
              "</style>\n",
              "<table border=\"1\" class=\"dataframe\">\n",
              "  <thead>\n",
              "    <tr style=\"text-align: right;\">\n",
              "      <th></th>\n",
              "      <th>CATEGORY</th>\n",
              "      <th>0</th>\n",
              "      <th>1</th>\n",
              "      <th>2</th>\n",
              "      <th>3</th>\n",
              "      <th>4</th>\n",
              "      <th>5</th>\n",
              "      <th>6</th>\n",
              "      <th>7</th>\n",
              "      <th>8</th>\n",
              "      <th>...</th>\n",
              "      <th>2490</th>\n",
              "      <th>2491</th>\n",
              "      <th>2492</th>\n",
              "      <th>2493</th>\n",
              "      <th>2494</th>\n",
              "      <th>2495</th>\n",
              "      <th>2496</th>\n",
              "      <th>2497</th>\n",
              "      <th>2498</th>\n",
              "      <th>2499</th>\n",
              "    </tr>\n",
              "    <tr>\n",
              "      <th>DOC_ID</th>\n",
              "      <th></th>\n",
              "      <th></th>\n",
              "      <th></th>\n",
              "      <th></th>\n",
              "      <th></th>\n",
              "      <th></th>\n",
              "      <th></th>\n",
              "      <th></th>\n",
              "      <th></th>\n",
              "      <th></th>\n",
              "      <th></th>\n",
              "      <th></th>\n",
              "      <th></th>\n",
              "      <th></th>\n",
              "      <th></th>\n",
              "      <th></th>\n",
              "      <th></th>\n",
              "      <th></th>\n",
              "      <th></th>\n",
              "      <th></th>\n",
              "      <th></th>\n",
              "    </tr>\n",
              "  </thead>\n",
              "  <tbody>\n",
              "    <tr>\n",
              "      <th>0</th>\n",
              "      <td>1</td>\n",
              "      <td>0</td>\n",
              "      <td>0</td>\n",
              "      <td>1</td>\n",
              "      <td>2</td>\n",
              "      <td>1</td>\n",
              "      <td>0</td>\n",
              "      <td>0</td>\n",
              "      <td>3</td>\n",
              "      <td>0</td>\n",
              "      <td>...</td>\n",
              "      <td>0</td>\n",
              "      <td>0</td>\n",
              "      <td>0</td>\n",
              "      <td>0</td>\n",
              "      <td>0</td>\n",
              "      <td>0</td>\n",
              "      <td>0</td>\n",
              "      <td>0</td>\n",
              "      <td>0</td>\n",
              "      <td>0</td>\n",
              "    </tr>\n",
              "    <tr>\n",
              "      <th>1</th>\n",
              "      <td>1</td>\n",
              "      <td>7</td>\n",
              "      <td>1</td>\n",
              "      <td>2</td>\n",
              "      <td>0</td>\n",
              "      <td>1</td>\n",
              "      <td>0</td>\n",
              "      <td>0</td>\n",
              "      <td>1</td>\n",
              "      <td>0</td>\n",
              "      <td>...</td>\n",
              "      <td>0</td>\n",
              "      <td>0</td>\n",
              "      <td>0</td>\n",
              "      <td>0</td>\n",
              "      <td>0</td>\n",
              "      <td>0</td>\n",
              "      <td>0</td>\n",
              "      <td>0</td>\n",
              "      <td>0</td>\n",
              "      <td>0</td>\n",
              "    </tr>\n",
              "    <tr>\n",
              "      <th>2</th>\n",
              "      <td>1</td>\n",
              "      <td>6</td>\n",
              "      <td>1</td>\n",
              "      <td>1</td>\n",
              "      <td>0</td>\n",
              "      <td>1</td>\n",
              "      <td>0</td>\n",
              "      <td>0</td>\n",
              "      <td>1</td>\n",
              "      <td>0</td>\n",
              "      <td>...</td>\n",
              "      <td>0</td>\n",
              "      <td>0</td>\n",
              "      <td>0</td>\n",
              "      <td>0</td>\n",
              "      <td>0</td>\n",
              "      <td>0</td>\n",
              "      <td>0</td>\n",
              "      <td>0</td>\n",
              "      <td>0</td>\n",
              "      <td>0</td>\n",
              "    </tr>\n",
              "    <tr>\n",
              "      <th>3</th>\n",
              "      <td>1</td>\n",
              "      <td>6</td>\n",
              "      <td>0</td>\n",
              "      <td>0</td>\n",
              "      <td>2</td>\n",
              "      <td>4</td>\n",
              "      <td>0</td>\n",
              "      <td>3</td>\n",
              "      <td>14</td>\n",
              "      <td>0</td>\n",
              "      <td>...</td>\n",
              "      <td>0</td>\n",
              "      <td>0</td>\n",
              "      <td>0</td>\n",
              "      <td>0</td>\n",
              "      <td>0</td>\n",
              "      <td>0</td>\n",
              "      <td>0</td>\n",
              "      <td>0</td>\n",
              "      <td>0</td>\n",
              "      <td>0</td>\n",
              "    </tr>\n",
              "    <tr>\n",
              "      <th>4</th>\n",
              "      <td>1</td>\n",
              "      <td>5</td>\n",
              "      <td>1</td>\n",
              "      <td>2</td>\n",
              "      <td>0</td>\n",
              "      <td>1</td>\n",
              "      <td>0</td>\n",
              "      <td>0</td>\n",
              "      <td>1</td>\n",
              "      <td>0</td>\n",
              "      <td>...</td>\n",
              "      <td>0</td>\n",
              "      <td>0</td>\n",
              "      <td>0</td>\n",
              "      <td>0</td>\n",
              "      <td>0</td>\n",
              "      <td>0</td>\n",
              "      <td>0</td>\n",
              "      <td>0</td>\n",
              "      <td>0</td>\n",
              "      <td>0</td>\n",
              "    </tr>\n",
              "  </tbody>\n",
              "</table>\n",
              "<p>5 rows × 2501 columns</p>\n",
              "</div>"
            ],
            "text/plain": [
              "        CATEGORY  0  1  2  3  4  5  6   7  8  ...  2490  2491  2492  2493  \\\n",
              "DOC_ID                                        ...                           \n",
              "0              1  0  0  1  2  1  0  0   3  0  ...     0     0     0     0   \n",
              "1              1  7  1  2  0  1  0  0   1  0  ...     0     0     0     0   \n",
              "2              1  6  1  1  0  1  0  0   1  0  ...     0     0     0     0   \n",
              "3              1  6  0  0  2  4  0  3  14  0  ...     0     0     0     0   \n",
              "4              1  5  1  2  0  1  0  0   1  0  ...     0     0     0     0   \n",
              "\n",
              "        2494  2495  2496  2497  2498  2499  \n",
              "DOC_ID                                      \n",
              "0          0     0     0     0     0     0  \n",
              "1          0     0     0     0     0     0  \n",
              "2          0     0     0     0     0     0  \n",
              "3          0     0     0     0     0     0  \n",
              "4          0     0     0     0     0     0  \n",
              "\n",
              "[5 rows x 2501 columns]"
            ]
          },
          "execution_count": 18,
          "metadata": {},
          "output_type": "execute_result"
        }
      ],
      "source": [
        "full_train_data.head()"
      ]
    },
    {
      "cell_type": "code",
      "execution_count": null,
      "id": "bf93e978-d909-4854-987b-49c53a485c4c",
      "metadata": {
        "id": "bf93e978-d909-4854-987b-49c53a485c4c",
        "outputId": "861c961c-3ed6-4791-9dbb-c73fc44ca5b3"
      },
      "outputs": [
        {
          "data": {
            "text/html": [
              "<div>\n",
              "<style scoped>\n",
              "    .dataframe tbody tr th:only-of-type {\n",
              "        vertical-align: middle;\n",
              "    }\n",
              "\n",
              "    .dataframe tbody tr th {\n",
              "        vertical-align: top;\n",
              "    }\n",
              "\n",
              "    .dataframe thead th {\n",
              "        text-align: right;\n",
              "    }\n",
              "</style>\n",
              "<table border=\"1\" class=\"dataframe\">\n",
              "  <thead>\n",
              "    <tr style=\"text-align: right;\">\n",
              "      <th></th>\n",
              "      <th>CATEGORY</th>\n",
              "      <th>0</th>\n",
              "      <th>1</th>\n",
              "      <th>2</th>\n",
              "      <th>3</th>\n",
              "      <th>4</th>\n",
              "      <th>5</th>\n",
              "      <th>6</th>\n",
              "      <th>7</th>\n",
              "      <th>8</th>\n",
              "      <th>...</th>\n",
              "      <th>2490</th>\n",
              "      <th>2491</th>\n",
              "      <th>2492</th>\n",
              "      <th>2493</th>\n",
              "      <th>2494</th>\n",
              "      <th>2495</th>\n",
              "      <th>2496</th>\n",
              "      <th>2497</th>\n",
              "      <th>2498</th>\n",
              "      <th>2499</th>\n",
              "    </tr>\n",
              "    <tr>\n",
              "      <th>DOC_ID</th>\n",
              "      <th></th>\n",
              "      <th></th>\n",
              "      <th></th>\n",
              "      <th></th>\n",
              "      <th></th>\n",
              "      <th></th>\n",
              "      <th></th>\n",
              "      <th></th>\n",
              "      <th></th>\n",
              "      <th></th>\n",
              "      <th></th>\n",
              "      <th></th>\n",
              "      <th></th>\n",
              "      <th></th>\n",
              "      <th></th>\n",
              "      <th></th>\n",
              "      <th></th>\n",
              "      <th></th>\n",
              "      <th></th>\n",
              "      <th></th>\n",
              "      <th></th>\n",
              "    </tr>\n",
              "  </thead>\n",
              "  <tbody>\n",
              "    <tr>\n",
              "      <th>5792</th>\n",
              "      <td>0</td>\n",
              "      <td>3</td>\n",
              "      <td>1</td>\n",
              "      <td>0</td>\n",
              "      <td>1</td>\n",
              "      <td>0</td>\n",
              "      <td>0</td>\n",
              "      <td>0</td>\n",
              "      <td>1</td>\n",
              "      <td>0</td>\n",
              "      <td>...</td>\n",
              "      <td>0</td>\n",
              "      <td>0</td>\n",
              "      <td>0</td>\n",
              "      <td>0</td>\n",
              "      <td>0</td>\n",
              "      <td>0</td>\n",
              "      <td>0</td>\n",
              "      <td>0</td>\n",
              "      <td>0</td>\n",
              "      <td>0</td>\n",
              "    </tr>\n",
              "    <tr>\n",
              "      <th>5795</th>\n",
              "      <td>0</td>\n",
              "      <td>2</td>\n",
              "      <td>2</td>\n",
              "      <td>0</td>\n",
              "      <td>1</td>\n",
              "      <td>0</td>\n",
              "      <td>0</td>\n",
              "      <td>2</td>\n",
              "      <td>1</td>\n",
              "      <td>0</td>\n",
              "      <td>...</td>\n",
              "      <td>0</td>\n",
              "      <td>0</td>\n",
              "      <td>0</td>\n",
              "      <td>0</td>\n",
              "      <td>0</td>\n",
              "      <td>0</td>\n",
              "      <td>0</td>\n",
              "      <td>0</td>\n",
              "      <td>0</td>\n",
              "      <td>0</td>\n",
              "    </tr>\n",
              "    <tr>\n",
              "      <th>5796</th>\n",
              "      <td>0</td>\n",
              "      <td>1</td>\n",
              "      <td>9</td>\n",
              "      <td>1</td>\n",
              "      <td>0</td>\n",
              "      <td>0</td>\n",
              "      <td>1</td>\n",
              "      <td>2</td>\n",
              "      <td>1</td>\n",
              "      <td>1</td>\n",
              "      <td>...</td>\n",
              "      <td>0</td>\n",
              "      <td>0</td>\n",
              "      <td>0</td>\n",
              "      <td>0</td>\n",
              "      <td>0</td>\n",
              "      <td>0</td>\n",
              "      <td>0</td>\n",
              "      <td>0</td>\n",
              "      <td>0</td>\n",
              "      <td>0</td>\n",
              "    </tr>\n",
              "    <tr>\n",
              "      <th>5797</th>\n",
              "      <td>0</td>\n",
              "      <td>1</td>\n",
              "      <td>1</td>\n",
              "      <td>1</td>\n",
              "      <td>0</td>\n",
              "      <td>0</td>\n",
              "      <td>1</td>\n",
              "      <td>2</td>\n",
              "      <td>0</td>\n",
              "      <td>0</td>\n",
              "      <td>...</td>\n",
              "      <td>0</td>\n",
              "      <td>0</td>\n",
              "      <td>0</td>\n",
              "      <td>0</td>\n",
              "      <td>0</td>\n",
              "      <td>0</td>\n",
              "      <td>0</td>\n",
              "      <td>0</td>\n",
              "      <td>0</td>\n",
              "      <td>0</td>\n",
              "    </tr>\n",
              "    <tr>\n",
              "      <th>5798</th>\n",
              "      <td>0</td>\n",
              "      <td>3</td>\n",
              "      <td>4</td>\n",
              "      <td>2</td>\n",
              "      <td>0</td>\n",
              "      <td>5</td>\n",
              "      <td>0</td>\n",
              "      <td>3</td>\n",
              "      <td>0</td>\n",
              "      <td>0</td>\n",
              "      <td>...</td>\n",
              "      <td>0</td>\n",
              "      <td>0</td>\n",
              "      <td>0</td>\n",
              "      <td>0</td>\n",
              "      <td>0</td>\n",
              "      <td>0</td>\n",
              "      <td>0</td>\n",
              "      <td>0</td>\n",
              "      <td>0</td>\n",
              "      <td>0</td>\n",
              "    </tr>\n",
              "  </tbody>\n",
              "</table>\n",
              "<p>5 rows × 2501 columns</p>\n",
              "</div>"
            ],
            "text/plain": [
              "        CATEGORY  0  1  2  3  4  5  6  7  8  ...  2490  2491  2492  2493  \\\n",
              "DOC_ID                                       ...                           \n",
              "5792           0  3  1  0  1  0  0  0  1  0  ...     0     0     0     0   \n",
              "5795           0  2  2  0  1  0  0  2  1  0  ...     0     0     0     0   \n",
              "5796           0  1  9  1  0  0  1  2  1  1  ...     0     0     0     0   \n",
              "5797           0  1  1  1  0  0  1  2  0  0  ...     0     0     0     0   \n",
              "5798           0  3  4  2  0  5  0  3  0  0  ...     0     0     0     0   \n",
              "\n",
              "        2494  2495  2496  2497  2498  2499  \n",
              "DOC_ID                                      \n",
              "5792       0     0     0     0     0     0  \n",
              "5795       0     0     0     0     0     0  \n",
              "5796       0     0     0     0     0     0  \n",
              "5797       0     0     0     0     0     0  \n",
              "5798       0     0     0     0     0     0  \n",
              "\n",
              "[5 rows x 2501 columns]"
            ]
          },
          "execution_count": 19,
          "metadata": {},
          "output_type": "execute_result"
        }
      ],
      "source": [
        "full_train_data.tail()"
      ]
    },
    {
      "cell_type": "markdown",
      "id": "3408ffb8-9d28-4818-82d2-0e7b3f61e627",
      "metadata": {
        "id": "3408ffb8-9d28-4818-82d2-0e7b3f61e627"
      },
      "source": [
        "**#TRAINING THE NAIVE BAYES MODEL**\n",
        "\n",
        "**Calculating the Probability of Spam**\n"
      ]
    },
    {
      "cell_type": "code",
      "execution_count": null,
      "id": "58e09ef3-6123-4208-b0dd-39fc45127c2e",
      "metadata": {
        "id": "58e09ef3-6123-4208-b0dd-39fc45127c2e",
        "outputId": "3c999e5a-d976-468c-858b-21cc653f2fc5"
      },
      "outputs": [
        {
          "data": {
            "text/plain": [
              "4012"
            ]
          },
          "execution_count": 20,
          "metadata": {},
          "output_type": "execute_result"
        }
      ],
      "source": [
        "#Calculate the Probability of Spam - the % of spam messages in the training dataset.\n",
        "full_train_data.CATEGORY.size"
      ]
    },
    {
      "cell_type": "code",
      "execution_count": null,
      "id": "a064b1ca-3073-484d-9278-1796157909cb",
      "metadata": {
        "id": "a064b1ca-3073-484d-9278-1796157909cb",
        "outputId": "61a19f8f-aef7-46ac-c866-32dc0e0e824f"
      },
      "outputs": [
        {
          "data": {
            "text/plain": [
              "1246"
            ]
          },
          "execution_count": 21,
          "metadata": {},
          "output_type": "execute_result"
        }
      ],
      "source": [
        "full_train_data.CATEGORY.sum()"
      ]
    },
    {
      "cell_type": "code",
      "execution_count": null,
      "id": "3ed6223b-bcca-4773-a73e-2f9439a8696a",
      "metadata": {
        "id": "3ed6223b-bcca-4773-a73e-2f9439a8696a",
        "outputId": "f1221d0d-40d4-4953-e3e1-64026c2924e3"
      },
      "outputs": [
        {
          "name": "stdout",
          "output_type": "stream",
          "text": [
            "Probability of spam is: 0.31056829511465606\n"
          ]
        }
      ],
      "source": [
        "prob_spam = full_train_data.CATEGORY.sum() / full_train_data.CATEGORY.size\n",
        "print(f'Probability of spam is:', prob_spam)"
      ]
    },
    {
      "cell_type": "markdown",
      "id": "7e84da4a-ae43-4049-88d7-69dd2de258c4",
      "metadata": {
        "id": "7e84da4a-ae43-4049-88d7-69dd2de258c4"
      },
      "source": [
        "**TOTAL NO.OF WORDS & TOKENS**"
      ]
    },
    {
      "cell_type": "code",
      "execution_count": null,
      "id": "dccb2eea-3670-4f31-8f6e-ea0c461aab33",
      "metadata": {
        "id": "dccb2eea-3670-4f31-8f6e-ea0c461aab33",
        "outputId": "8c309273-5dfa-4d58-fbfc-43c69bf7d6c5"
      },
      "outputs": [
        {
          "data": {
            "text/html": [
              "<div>\n",
              "<style scoped>\n",
              "    .dataframe tbody tr th:only-of-type {\n",
              "        vertical-align: middle;\n",
              "    }\n",
              "\n",
              "    .dataframe tbody tr th {\n",
              "        vertical-align: top;\n",
              "    }\n",
              "\n",
              "    .dataframe thead th {\n",
              "        text-align: right;\n",
              "    }\n",
              "</style>\n",
              "<table border=\"1\" class=\"dataframe\">\n",
              "  <thead>\n",
              "    <tr style=\"text-align: right;\">\n",
              "      <th></th>\n",
              "      <th>0</th>\n",
              "      <th>1</th>\n",
              "      <th>2</th>\n",
              "      <th>3</th>\n",
              "      <th>4</th>\n",
              "      <th>5</th>\n",
              "      <th>6</th>\n",
              "      <th>7</th>\n",
              "      <th>8</th>\n",
              "      <th>9</th>\n",
              "      <th>...</th>\n",
              "      <th>2490</th>\n",
              "      <th>2491</th>\n",
              "      <th>2492</th>\n",
              "      <th>2493</th>\n",
              "      <th>2494</th>\n",
              "      <th>2495</th>\n",
              "      <th>2496</th>\n",
              "      <th>2497</th>\n",
              "      <th>2498</th>\n",
              "      <th>2499</th>\n",
              "    </tr>\n",
              "    <tr>\n",
              "      <th>DOC_ID</th>\n",
              "      <th></th>\n",
              "      <th></th>\n",
              "      <th></th>\n",
              "      <th></th>\n",
              "      <th></th>\n",
              "      <th></th>\n",
              "      <th></th>\n",
              "      <th></th>\n",
              "      <th></th>\n",
              "      <th></th>\n",
              "      <th></th>\n",
              "      <th></th>\n",
              "      <th></th>\n",
              "      <th></th>\n",
              "      <th></th>\n",
              "      <th></th>\n",
              "      <th></th>\n",
              "      <th></th>\n",
              "      <th></th>\n",
              "      <th></th>\n",
              "      <th></th>\n",
              "    </tr>\n",
              "  </thead>\n",
              "  <tbody>\n",
              "    <tr>\n",
              "      <th>0</th>\n",
              "      <td>0</td>\n",
              "      <td>0</td>\n",
              "      <td>1</td>\n",
              "      <td>2</td>\n",
              "      <td>1</td>\n",
              "      <td>0</td>\n",
              "      <td>0</td>\n",
              "      <td>3</td>\n",
              "      <td>0</td>\n",
              "      <td>0</td>\n",
              "      <td>...</td>\n",
              "      <td>0</td>\n",
              "      <td>0</td>\n",
              "      <td>0</td>\n",
              "      <td>0</td>\n",
              "      <td>0</td>\n",
              "      <td>0</td>\n",
              "      <td>0</td>\n",
              "      <td>0</td>\n",
              "      <td>0</td>\n",
              "      <td>0</td>\n",
              "    </tr>\n",
              "    <tr>\n",
              "      <th>1</th>\n",
              "      <td>7</td>\n",
              "      <td>1</td>\n",
              "      <td>2</td>\n",
              "      <td>0</td>\n",
              "      <td>1</td>\n",
              "      <td>0</td>\n",
              "      <td>0</td>\n",
              "      <td>1</td>\n",
              "      <td>0</td>\n",
              "      <td>0</td>\n",
              "      <td>...</td>\n",
              "      <td>0</td>\n",
              "      <td>0</td>\n",
              "      <td>0</td>\n",
              "      <td>0</td>\n",
              "      <td>0</td>\n",
              "      <td>0</td>\n",
              "      <td>0</td>\n",
              "      <td>0</td>\n",
              "      <td>0</td>\n",
              "      <td>0</td>\n",
              "    </tr>\n",
              "    <tr>\n",
              "      <th>2</th>\n",
              "      <td>6</td>\n",
              "      <td>1</td>\n",
              "      <td>1</td>\n",
              "      <td>0</td>\n",
              "      <td>1</td>\n",
              "      <td>0</td>\n",
              "      <td>0</td>\n",
              "      <td>1</td>\n",
              "      <td>0</td>\n",
              "      <td>0</td>\n",
              "      <td>...</td>\n",
              "      <td>0</td>\n",
              "      <td>0</td>\n",
              "      <td>0</td>\n",
              "      <td>0</td>\n",
              "      <td>0</td>\n",
              "      <td>0</td>\n",
              "      <td>0</td>\n",
              "      <td>0</td>\n",
              "      <td>0</td>\n",
              "      <td>0</td>\n",
              "    </tr>\n",
              "    <tr>\n",
              "      <th>3</th>\n",
              "      <td>6</td>\n",
              "      <td>0</td>\n",
              "      <td>0</td>\n",
              "      <td>2</td>\n",
              "      <td>4</td>\n",
              "      <td>0</td>\n",
              "      <td>3</td>\n",
              "      <td>14</td>\n",
              "      <td>0</td>\n",
              "      <td>0</td>\n",
              "      <td>...</td>\n",
              "      <td>0</td>\n",
              "      <td>0</td>\n",
              "      <td>0</td>\n",
              "      <td>0</td>\n",
              "      <td>0</td>\n",
              "      <td>0</td>\n",
              "      <td>0</td>\n",
              "      <td>0</td>\n",
              "      <td>0</td>\n",
              "      <td>0</td>\n",
              "    </tr>\n",
              "    <tr>\n",
              "      <th>4</th>\n",
              "      <td>5</td>\n",
              "      <td>1</td>\n",
              "      <td>2</td>\n",
              "      <td>0</td>\n",
              "      <td>1</td>\n",
              "      <td>0</td>\n",
              "      <td>0</td>\n",
              "      <td>1</td>\n",
              "      <td>0</td>\n",
              "      <td>0</td>\n",
              "      <td>...</td>\n",
              "      <td>0</td>\n",
              "      <td>0</td>\n",
              "      <td>0</td>\n",
              "      <td>0</td>\n",
              "      <td>0</td>\n",
              "      <td>0</td>\n",
              "      <td>0</td>\n",
              "      <td>0</td>\n",
              "      <td>0</td>\n",
              "      <td>0</td>\n",
              "    </tr>\n",
              "  </tbody>\n",
              "</table>\n",
              "<p>5 rows × 2500 columns</p>\n",
              "</div>"
            ],
            "text/plain": [
              "        0     1     2     3     4     5     6     7     8     9     ...  2490  \\\n",
              "DOC_ID                                                              ...         \n",
              "0          0     0     1     2     1     0     0     3     0     0  ...     0   \n",
              "1          7     1     2     0     1     0     0     1     0     0  ...     0   \n",
              "2          6     1     1     0     1     0     0     1     0     0  ...     0   \n",
              "3          6     0     0     2     4     0     3    14     0     0  ...     0   \n",
              "4          5     1     2     0     1     0     0     1     0     0  ...     0   \n",
              "\n",
              "        2491  2492  2493  2494  2495  2496  2497  2498  2499  \n",
              "DOC_ID                                                        \n",
              "0          0     0     0     0     0     0     0     0     0  \n",
              "1          0     0     0     0     0     0     0     0     0  \n",
              "2          0     0     0     0     0     0     0     0     0  \n",
              "3          0     0     0     0     0     0     0     0     0  \n",
              "4          0     0     0     0     0     0     0     0     0  \n",
              "\n",
              "[5 rows x 2500 columns]"
            ]
          },
          "execution_count": 23,
          "metadata": {},
          "output_type": "execute_result"
        }
      ],
      "source": [
        "full_train_features = full_train_data.loc[:, full_train_data.columns != 'CATEGORY']\n",
        "full_train_features.head()"
      ]
    },
    {
      "cell_type": "code",
      "execution_count": null,
      "id": "5b2127c7-95da-4cb2-8ee0-f8e469aeb090",
      "metadata": {
        "id": "5b2127c7-95da-4cb2-8ee0-f8e469aeb090",
        "outputId": "8bff1923-e94b-4cfc-986b-4a9046f3c979"
      },
      "outputs": [
        {
          "data": {
            "text/plain": [
              "(4012,)"
            ]
          },
          "execution_count": 24,
          "metadata": {},
          "output_type": "execute_result"
        }
      ],
      "source": [
        "email_lengths = full_train_features.sum(axis=1)\n",
        "email_lengths.shape"
      ]
    },
    {
      "cell_type": "code",
      "execution_count": null,
      "id": "506d6fe6-23d8-404a-ba2e-f47b0c01a3ea",
      "metadata": {
        "id": "506d6fe6-23d8-404a-ba2e-f47b0c01a3ea",
        "outputId": "fd43c085-bffa-403f-c599-4285667b4d16"
      },
      "outputs": [
        {
          "data": {
            "text/plain": [
              "DOC_ID\n",
              "0     87\n",
              "1     53\n",
              "2     40\n",
              "3    183\n",
              "4     43\n",
              "dtype: int64"
            ]
          },
          "execution_count": 25,
          "metadata": {},
          "output_type": "execute_result"
        }
      ],
      "source": [
        "email_lengths[:5]"
      ]
    },
    {
      "cell_type": "code",
      "execution_count": null,
      "id": "cf732ea2-5966-4530-adee-93355d1ecd6d",
      "metadata": {
        "id": "cf732ea2-5966-4530-adee-93355d1ecd6d",
        "outputId": "ddc95ccc-7095-49fd-f6f3-834b1191faa1"
      },
      "outputs": [
        {
          "data": {
            "text/plain": [
              "435983"
            ]
          },
          "execution_count": 26,
          "metadata": {},
          "output_type": "execute_result"
        }
      ],
      "source": [
        "total_wc = email_lengths.sum()\n",
        "total_wc"
      ]
    },
    {
      "cell_type": "markdown",
      "id": "44753772-a934-49e4-bf87-1c6277d2cfd7",
      "metadata": {
        "id": "44753772-a934-49e4-bf87-1c6277d2cfd7"
      },
      "source": [
        "**NO.OF TOKENS IN SPAM AND HAM EMAILS**"
      ]
    },
    {
      "cell_type": "code",
      "execution_count": null,
      "id": "fdb8f114-f1ef-40f6-863e-17b82b9fe943",
      "metadata": {
        "id": "fdb8f114-f1ef-40f6-863e-17b82b9fe943",
        "outputId": "12c9b9ac-f139-4e12-de06-c171354c9ca1"
      },
      "outputs": [
        {
          "name": "stdout",
          "output_type": "stream",
          "text": [
            "Word count of spam emails: 189463\n",
            "Word count of ham emails: 246520\n"
          ]
        }
      ],
      "source": [
        "spam_lengths = email_lengths[full_train_data.CATEGORY == 1]\n",
        "spam_wc = spam_lengths.sum()\n",
        "print('Word count of spam emails:', spam_wc)\n",
        "ham_lengths = email_lengths[full_train_data.CATEGORY == 0]\n",
        "ham_wc = ham_lengths.sum()\n",
        "print('Word count of ham emails:', ham_wc)"
      ]
    },
    {
      "cell_type": "code",
      "execution_count": null,
      "id": "127a91f8-dd04-492e-9401-27790e94dc06",
      "metadata": {
        "id": "127a91f8-dd04-492e-9401-27790e94dc06",
        "outputId": "152702b5-93cb-45c0-dcef-c05a18639a1c"
      },
      "outputs": [
        {
          "data": {
            "text/plain": [
              "0"
            ]
          },
          "execution_count": 28,
          "metadata": {},
          "output_type": "execute_result"
        }
      ],
      "source": [
        "email_lengths.shape[0] - spam_lengths.shape[0] - ham_lengths.shape[0]"
      ]
    },
    {
      "cell_type": "code",
      "execution_count": null,
      "id": "42e53b37-74e8-44b3-b885-69f5325da47d",
      "metadata": {
        "id": "42e53b37-74e8-44b3-b885-69f5325da47d",
        "outputId": "a6cb9f70-66cd-48f0-e1be-a23c10e0186f"
      },
      "outputs": [
        {
          "name": "stdout",
          "output_type": "stream",
          "text": [
            "Average No.of Words in spam emails 152\n",
            "Average No.of Words in ham emails 89\n"
          ]
        }
      ],
      "source": [
        "print('Average No.of Words in spam emails {:.0f}'.format(spam_wc / spam_lengths.shape[0]))\n",
        "print('Average No.of Words in ham emails {:.0f}'.format(ham_wc / ham_lengths.shape[0]))"
      ]
    },
    {
      "cell_type": "markdown",
      "id": "a65fa147-e652-4f01-82ec-bb74e7ece893",
      "metadata": {
        "id": "a65fa147-e652-4f01-82ec-bb74e7ece893"
      },
      "source": [
        "**##SUMMING THE TOKENS OCCURING IN SPAM**"
      ]
    },
    {
      "cell_type": "code",
      "execution_count": null,
      "id": "fb39c9c5-73db-4079-b947-6d84e2898502",
      "metadata": {
        "id": "fb39c9c5-73db-4079-b947-6d84e2898502",
        "outputId": "4693311c-da7c-4750-85eb-9b9fd8c60ad1"
      },
      "outputs": [
        {
          "data": {
            "text/plain": [
              "(4012, 2500)"
            ]
          },
          "execution_count": 30,
          "metadata": {},
          "output_type": "execute_result"
        }
      ],
      "source": [
        "full_train_features.shape"
      ]
    },
    {
      "cell_type": "code",
      "execution_count": null,
      "id": "7aae68a7-6038-4777-ac1c-27d7a3aa7012",
      "metadata": {
        "id": "7aae68a7-6038-4777-ac1c-27d7a3aa7012",
        "outputId": "b1a82eb5-3722-42bd-bafa-d259e7f3b55b"
      },
      "outputs": [
        {
          "data": {
            "text/html": [
              "<div>\n",
              "<style scoped>\n",
              "    .dataframe tbody tr th:only-of-type {\n",
              "        vertical-align: middle;\n",
              "    }\n",
              "\n",
              "    .dataframe tbody tr th {\n",
              "        vertical-align: top;\n",
              "    }\n",
              "\n",
              "    .dataframe thead th {\n",
              "        text-align: right;\n",
              "    }\n",
              "</style>\n",
              "<table border=\"1\" class=\"dataframe\">\n",
              "  <thead>\n",
              "    <tr style=\"text-align: right;\">\n",
              "      <th></th>\n",
              "      <th>0</th>\n",
              "      <th>1</th>\n",
              "      <th>2</th>\n",
              "      <th>3</th>\n",
              "      <th>4</th>\n",
              "      <th>5</th>\n",
              "      <th>6</th>\n",
              "      <th>7</th>\n",
              "      <th>8</th>\n",
              "      <th>9</th>\n",
              "      <th>...</th>\n",
              "      <th>2490</th>\n",
              "      <th>2491</th>\n",
              "      <th>2492</th>\n",
              "      <th>2493</th>\n",
              "      <th>2494</th>\n",
              "      <th>2495</th>\n",
              "      <th>2496</th>\n",
              "      <th>2497</th>\n",
              "      <th>2498</th>\n",
              "      <th>2499</th>\n",
              "    </tr>\n",
              "    <tr>\n",
              "      <th>DOC_ID</th>\n",
              "      <th></th>\n",
              "      <th></th>\n",
              "      <th></th>\n",
              "      <th></th>\n",
              "      <th></th>\n",
              "      <th></th>\n",
              "      <th></th>\n",
              "      <th></th>\n",
              "      <th></th>\n",
              "      <th></th>\n",
              "      <th></th>\n",
              "      <th></th>\n",
              "      <th></th>\n",
              "      <th></th>\n",
              "      <th></th>\n",
              "      <th></th>\n",
              "      <th></th>\n",
              "      <th></th>\n",
              "      <th></th>\n",
              "      <th></th>\n",
              "      <th></th>\n",
              "    </tr>\n",
              "  </thead>\n",
              "  <tbody>\n",
              "    <tr>\n",
              "      <th>0</th>\n",
              "      <td>0</td>\n",
              "      <td>0</td>\n",
              "      <td>1</td>\n",
              "      <td>2</td>\n",
              "      <td>1</td>\n",
              "      <td>0</td>\n",
              "      <td>0</td>\n",
              "      <td>3</td>\n",
              "      <td>0</td>\n",
              "      <td>0</td>\n",
              "      <td>...</td>\n",
              "      <td>0</td>\n",
              "      <td>0</td>\n",
              "      <td>0</td>\n",
              "      <td>0</td>\n",
              "      <td>0</td>\n",
              "      <td>0</td>\n",
              "      <td>0</td>\n",
              "      <td>0</td>\n",
              "      <td>0</td>\n",
              "      <td>0</td>\n",
              "    </tr>\n",
              "    <tr>\n",
              "      <th>1</th>\n",
              "      <td>7</td>\n",
              "      <td>1</td>\n",
              "      <td>2</td>\n",
              "      <td>0</td>\n",
              "      <td>1</td>\n",
              "      <td>0</td>\n",
              "      <td>0</td>\n",
              "      <td>1</td>\n",
              "      <td>0</td>\n",
              "      <td>0</td>\n",
              "      <td>...</td>\n",
              "      <td>0</td>\n",
              "      <td>0</td>\n",
              "      <td>0</td>\n",
              "      <td>0</td>\n",
              "      <td>0</td>\n",
              "      <td>0</td>\n",
              "      <td>0</td>\n",
              "      <td>0</td>\n",
              "      <td>0</td>\n",
              "      <td>0</td>\n",
              "    </tr>\n",
              "    <tr>\n",
              "      <th>2</th>\n",
              "      <td>6</td>\n",
              "      <td>1</td>\n",
              "      <td>1</td>\n",
              "      <td>0</td>\n",
              "      <td>1</td>\n",
              "      <td>0</td>\n",
              "      <td>0</td>\n",
              "      <td>1</td>\n",
              "      <td>0</td>\n",
              "      <td>0</td>\n",
              "      <td>...</td>\n",
              "      <td>0</td>\n",
              "      <td>0</td>\n",
              "      <td>0</td>\n",
              "      <td>0</td>\n",
              "      <td>0</td>\n",
              "      <td>0</td>\n",
              "      <td>0</td>\n",
              "      <td>0</td>\n",
              "      <td>0</td>\n",
              "      <td>0</td>\n",
              "    </tr>\n",
              "    <tr>\n",
              "      <th>3</th>\n",
              "      <td>6</td>\n",
              "      <td>0</td>\n",
              "      <td>0</td>\n",
              "      <td>2</td>\n",
              "      <td>4</td>\n",
              "      <td>0</td>\n",
              "      <td>3</td>\n",
              "      <td>14</td>\n",
              "      <td>0</td>\n",
              "      <td>0</td>\n",
              "      <td>...</td>\n",
              "      <td>0</td>\n",
              "      <td>0</td>\n",
              "      <td>0</td>\n",
              "      <td>0</td>\n",
              "      <td>0</td>\n",
              "      <td>0</td>\n",
              "      <td>0</td>\n",
              "      <td>0</td>\n",
              "      <td>0</td>\n",
              "      <td>0</td>\n",
              "    </tr>\n",
              "    <tr>\n",
              "      <th>4</th>\n",
              "      <td>5</td>\n",
              "      <td>1</td>\n",
              "      <td>2</td>\n",
              "      <td>0</td>\n",
              "      <td>1</td>\n",
              "      <td>0</td>\n",
              "      <td>0</td>\n",
              "      <td>1</td>\n",
              "      <td>0</td>\n",
              "      <td>0</td>\n",
              "      <td>...</td>\n",
              "      <td>0</td>\n",
              "      <td>0</td>\n",
              "      <td>0</td>\n",
              "      <td>0</td>\n",
              "      <td>0</td>\n",
              "      <td>0</td>\n",
              "      <td>0</td>\n",
              "      <td>0</td>\n",
              "      <td>0</td>\n",
              "      <td>0</td>\n",
              "    </tr>\n",
              "  </tbody>\n",
              "</table>\n",
              "<p>5 rows × 2500 columns</p>\n",
              "</div>"
            ],
            "text/plain": [
              "        0     1     2     3     4     5     6     7     8     9     ...  2490  \\\n",
              "DOC_ID                                                              ...         \n",
              "0          0     0     1     2     1     0     0     3     0     0  ...     0   \n",
              "1          7     1     2     0     1     0     0     1     0     0  ...     0   \n",
              "2          6     1     1     0     1     0     0     1     0     0  ...     0   \n",
              "3          6     0     0     2     4     0     3    14     0     0  ...     0   \n",
              "4          5     1     2     0     1     0     0     1     0     0  ...     0   \n",
              "\n",
              "        2491  2492  2493  2494  2495  2496  2497  2498  2499  \n",
              "DOC_ID                                                        \n",
              "0          0     0     0     0     0     0     0     0     0  \n",
              "1          0     0     0     0     0     0     0     0     0  \n",
              "2          0     0     0     0     0     0     0     0     0  \n",
              "3          0     0     0     0     0     0     0     0     0  \n",
              "4          0     0     0     0     0     0     0     0     0  \n",
              "\n",
              "[5 rows x 2500 columns]"
            ]
          },
          "execution_count": 31,
          "metadata": {},
          "output_type": "execute_result"
        }
      ],
      "source": [
        "train_spam_tokens = full_train_features.loc[full_train_data.CATEGORY == 1]\n",
        "train_spam_tokens.head()"
      ]
    },
    {
      "cell_type": "code",
      "execution_count": null,
      "id": "5700b220-4d0b-4cb0-9c56-c6e07f2437f3",
      "metadata": {
        "id": "5700b220-4d0b-4cb0-9c56-c6e07f2437f3",
        "outputId": "00f5259a-1c3e-4286-850c-e5cdb30f81f5"
      },
      "outputs": [
        {
          "data": {
            "text/html": [
              "<div>\n",
              "<style scoped>\n",
              "    .dataframe tbody tr th:only-of-type {\n",
              "        vertical-align: middle;\n",
              "    }\n",
              "\n",
              "    .dataframe tbody tr th {\n",
              "        vertical-align: top;\n",
              "    }\n",
              "\n",
              "    .dataframe thead th {\n",
              "        text-align: right;\n",
              "    }\n",
              "</style>\n",
              "<table border=\"1\" class=\"dataframe\">\n",
              "  <thead>\n",
              "    <tr style=\"text-align: right;\">\n",
              "      <th></th>\n",
              "      <th>0</th>\n",
              "      <th>1</th>\n",
              "      <th>2</th>\n",
              "      <th>3</th>\n",
              "      <th>4</th>\n",
              "      <th>5</th>\n",
              "      <th>6</th>\n",
              "      <th>7</th>\n",
              "      <th>8</th>\n",
              "      <th>9</th>\n",
              "      <th>...</th>\n",
              "      <th>2490</th>\n",
              "      <th>2491</th>\n",
              "      <th>2492</th>\n",
              "      <th>2493</th>\n",
              "      <th>2494</th>\n",
              "      <th>2495</th>\n",
              "      <th>2496</th>\n",
              "      <th>2497</th>\n",
              "      <th>2498</th>\n",
              "      <th>2499</th>\n",
              "    </tr>\n",
              "    <tr>\n",
              "      <th>DOC_ID</th>\n",
              "      <th></th>\n",
              "      <th></th>\n",
              "      <th></th>\n",
              "      <th></th>\n",
              "      <th></th>\n",
              "      <th></th>\n",
              "      <th></th>\n",
              "      <th></th>\n",
              "      <th></th>\n",
              "      <th></th>\n",
              "      <th></th>\n",
              "      <th></th>\n",
              "      <th></th>\n",
              "      <th></th>\n",
              "      <th></th>\n",
              "      <th></th>\n",
              "      <th></th>\n",
              "      <th></th>\n",
              "      <th></th>\n",
              "      <th></th>\n",
              "      <th></th>\n",
              "    </tr>\n",
              "  </thead>\n",
              "  <tbody>\n",
              "    <tr>\n",
              "      <th>1887</th>\n",
              "      <td>0</td>\n",
              "      <td>0</td>\n",
              "      <td>0</td>\n",
              "      <td>0</td>\n",
              "      <td>0</td>\n",
              "      <td>0</td>\n",
              "      <td>0</td>\n",
              "      <td>2</td>\n",
              "      <td>2</td>\n",
              "      <td>0</td>\n",
              "      <td>...</td>\n",
              "      <td>0</td>\n",
              "      <td>0</td>\n",
              "      <td>0</td>\n",
              "      <td>0</td>\n",
              "      <td>0</td>\n",
              "      <td>0</td>\n",
              "      <td>0</td>\n",
              "      <td>0</td>\n",
              "      <td>0</td>\n",
              "      <td>0</td>\n",
              "    </tr>\n",
              "    <tr>\n",
              "      <th>1889</th>\n",
              "      <td>0</td>\n",
              "      <td>0</td>\n",
              "      <td>2</td>\n",
              "      <td>3</td>\n",
              "      <td>0</td>\n",
              "      <td>1</td>\n",
              "      <td>0</td>\n",
              "      <td>0</td>\n",
              "      <td>0</td>\n",
              "      <td>0</td>\n",
              "      <td>...</td>\n",
              "      <td>0</td>\n",
              "      <td>0</td>\n",
              "      <td>0</td>\n",
              "      <td>0</td>\n",
              "      <td>0</td>\n",
              "      <td>0</td>\n",
              "      <td>0</td>\n",
              "      <td>0</td>\n",
              "      <td>0</td>\n",
              "      <td>0</td>\n",
              "    </tr>\n",
              "    <tr>\n",
              "      <th>1890</th>\n",
              "      <td>0</td>\n",
              "      <td>0</td>\n",
              "      <td>0</td>\n",
              "      <td>0</td>\n",
              "      <td>0</td>\n",
              "      <td>0</td>\n",
              "      <td>0</td>\n",
              "      <td>0</td>\n",
              "      <td>1</td>\n",
              "      <td>0</td>\n",
              "      <td>...</td>\n",
              "      <td>0</td>\n",
              "      <td>0</td>\n",
              "      <td>0</td>\n",
              "      <td>0</td>\n",
              "      <td>0</td>\n",
              "      <td>0</td>\n",
              "      <td>0</td>\n",
              "      <td>0</td>\n",
              "      <td>0</td>\n",
              "      <td>0</td>\n",
              "    </tr>\n",
              "    <tr>\n",
              "      <th>1895</th>\n",
              "      <td>0</td>\n",
              "      <td>3</td>\n",
              "      <td>1</td>\n",
              "      <td>1</td>\n",
              "      <td>1</td>\n",
              "      <td>1</td>\n",
              "      <td>44</td>\n",
              "      <td>1</td>\n",
              "      <td>5</td>\n",
              "      <td>5</td>\n",
              "      <td>...</td>\n",
              "      <td>0</td>\n",
              "      <td>0</td>\n",
              "      <td>0</td>\n",
              "      <td>0</td>\n",
              "      <td>0</td>\n",
              "      <td>0</td>\n",
              "      <td>0</td>\n",
              "      <td>0</td>\n",
              "      <td>0</td>\n",
              "      <td>0</td>\n",
              "    </tr>\n",
              "    <tr>\n",
              "      <th>1896</th>\n",
              "      <td>1</td>\n",
              "      <td>1</td>\n",
              "      <td>1</td>\n",
              "      <td>0</td>\n",
              "      <td>0</td>\n",
              "      <td>0</td>\n",
              "      <td>0</td>\n",
              "      <td>0</td>\n",
              "      <td>0</td>\n",
              "      <td>0</td>\n",
              "      <td>...</td>\n",
              "      <td>0</td>\n",
              "      <td>0</td>\n",
              "      <td>0</td>\n",
              "      <td>0</td>\n",
              "      <td>0</td>\n",
              "      <td>0</td>\n",
              "      <td>0</td>\n",
              "      <td>0</td>\n",
              "      <td>0</td>\n",
              "      <td>1</td>\n",
              "    </tr>\n",
              "  </tbody>\n",
              "</table>\n",
              "<p>5 rows × 2500 columns</p>\n",
              "</div>"
            ],
            "text/plain": [
              "        0     1     2     3     4     5     6     7     8     9     ...  2490  \\\n",
              "DOC_ID                                                              ...         \n",
              "1887       0     0     0     0     0     0     0     2     2     0  ...     0   \n",
              "1889       0     0     2     3     0     1     0     0     0     0  ...     0   \n",
              "1890       0     0     0     0     0     0     0     0     1     0  ...     0   \n",
              "1895       0     3     1     1     1     1    44     1     5     5  ...     0   \n",
              "1896       1     1     1     0     0     0     0     0     0     0  ...     0   \n",
              "\n",
              "        2491  2492  2493  2494  2495  2496  2497  2498  2499  \n",
              "DOC_ID                                                        \n",
              "1887       0     0     0     0     0     0     0     0     0  \n",
              "1889       0     0     0     0     0     0     0     0     0  \n",
              "1890       0     0     0     0     0     0     0     0     0  \n",
              "1895       0     0     0     0     0     0     0     0     0  \n",
              "1896       0     0     0     0     0     0     0     0     1  \n",
              "\n",
              "[5 rows x 2500 columns]"
            ]
          },
          "execution_count": 32,
          "metadata": {},
          "output_type": "execute_result"
        }
      ],
      "source": [
        "train_spam_tokens.tail()"
      ]
    },
    {
      "cell_type": "code",
      "execution_count": null,
      "id": "3b3289b8-8749-4c92-b9bc-b7325a7ebea3",
      "metadata": {
        "id": "3b3289b8-8749-4c92-b9bc-b7325a7ebea3",
        "outputId": "0c91bdb6-925a-4a32-9720-70ed7dd1ab49"
      },
      "outputs": [
        {
          "data": {
            "text/plain": [
              "(1246, 2500)"
            ]
          },
          "execution_count": 33,
          "metadata": {},
          "output_type": "execute_result"
        }
      ],
      "source": [
        "train_spam_tokens.shape"
      ]
    },
    {
      "cell_type": "code",
      "execution_count": null,
      "id": "78555c0c-d2cc-4194-8624-aa88568ad835",
      "metadata": {
        "id": "78555c0c-d2cc-4194-8624-aa88568ad835",
        "outputId": "0b2c0f64-4d84-40b9-ebc5-751f88054e23"
      },
      "outputs": [
        {
          "data": {
            "text/plain": [
              "(2500,)"
            ]
          },
          "execution_count": 34,
          "metadata": {},
          "output_type": "execute_result"
        }
      ],
      "source": [
        "summed_spam_tokens = train_spam_tokens.sum(axis=0) + 1 ##adding 1 coz if a token doesn't\n",
        "##occur then we will be dividing 0/no.of tokens. we are performing LAPLACE smoothing.\n",
        "summed_spam_tokens.shape"
      ]
    },
    {
      "cell_type": "markdown",
      "id": "40d2d583-abd1-4e18-bc6a-8bf52f8836d0",
      "metadata": {
        "id": "40d2d583-abd1-4e18-bc6a-8bf52f8836d0"
      },
      "source": [
        "**##SUMMING HAM TOKENS**"
      ]
    },
    {
      "cell_type": "code",
      "execution_count": null,
      "id": "a874aff2-7c9a-4b1d-a7a2-ab0392d47e8c",
      "metadata": {
        "id": "a874aff2-7c9a-4b1d-a7a2-ab0392d47e8c"
      },
      "outputs": [],
      "source": [
        "train_ham_tokens = full_train_features.loc[full_train_data.CATEGORY == 0]\n",
        "train_ham_tokens.head()\n",
        "summed_ham_tokens = train_ham_tokens.sum(axis=0) + 1"
      ]
    },
    {
      "cell_type": "code",
      "execution_count": null,
      "id": "251d0e0b-d3d8-4ab9-8513-dfd54485ddc5",
      "metadata": {
        "id": "251d0e0b-d3d8-4ab9-8513-dfd54485ddc5",
        "outputId": "d7a2b8bd-aac2-4f27-f9a8-54854e14b3c7"
      },
      "outputs": [
        {
          "data": {
            "text/plain": [
              "(2500,)"
            ]
          },
          "execution_count": 36,
          "metadata": {},
          "output_type": "execute_result"
        }
      ],
      "source": [
        "summed_ham_tokens.shape"
      ]
    },
    {
      "cell_type": "code",
      "execution_count": null,
      "id": "3f3fc2e4-ec7c-4f54-b2ec-3efa4ceba2fe",
      "metadata": {
        "id": "3f3fc2e4-ec7c-4f54-b2ec-3efa4ceba2fe",
        "outputId": "70450dc4-eb64-4060-8b8f-db4e2c013a61"
      },
      "outputs": [
        {
          "data": {
            "text/plain": [
              "0    5317\n",
              "1    2573\n",
              "2    2052\n",
              "3     892\n",
              "4    1656\n",
              "dtype: int64"
            ]
          },
          "execution_count": 37,
          "metadata": {},
          "output_type": "execute_result"
        }
      ],
      "source": [
        "summed_ham_tokens.head()"
      ]
    },
    {
      "cell_type": "markdown",
      "id": "e9ae8656-894a-456d-8ae4-f08836386bf1",
      "metadata": {
        "id": "e9ae8656-894a-456d-8ae4-f08836386bf1"
      },
      "source": [
        "**##P(Token | Spam) - Probability that a Token occurs given Email is Spam.**"
      ]
    },
    {
      "cell_type": "code",
      "execution_count": null,
      "id": "5a6df096-20c1-4e73-a0fd-6245c5c879ac",
      "metadata": {
        "id": "5a6df096-20c1-4e73-a0fd-6245c5c879ac",
        "outputId": "4beec5bc-4353-4067-b6c4-608aaf8396a3"
      },
      "outputs": [
        {
          "data": {
            "text/plain": [
              "0       0.011507\n",
              "1       0.005136\n",
              "2       0.007111\n",
              "3       0.010658\n",
              "4       0.007178\n",
              "          ...   \n",
              "2495    0.000031\n",
              "2496    0.000094\n",
              "2497    0.000010\n",
              "2498    0.000083\n",
              "2499    0.000151\n",
              "Length: 2500, dtype: float64"
            ]
          },
          "execution_count": 38,
          "metadata": {},
          "output_type": "execute_result"
        }
      ],
      "source": [
        "prob_tokens_spam = summed_spam_tokens / (spam_wc + VOCAB_SIZE) ##adding to implement LAPLACE SMOOTHING\n",
        "prob_tokens_spam"
      ]
    },
    {
      "cell_type": "code",
      "execution_count": null,
      "id": "f0f059c9-f896-49e6-919c-8748c738607d",
      "metadata": {
        "id": "f0f059c9-f896-49e6-919c-8748c738607d",
        "outputId": "a011b056-650e-42a3-915a-1eb71cabbefb"
      },
      "outputs": [
        {
          "data": {
            "text/plain": [
              "1.0"
            ]
          },
          "execution_count": 39,
          "metadata": {},
          "output_type": "execute_result"
        }
      ],
      "source": [
        "prob_tokens_spam.sum()"
      ]
    },
    {
      "cell_type": "markdown",
      "id": "72822e7e-d06c-4b5f-bdcb-d5dbe70f804c",
      "metadata": {
        "id": "72822e7e-d06c-4b5f-bdcb-d5dbe70f804c"
      },
      "source": [
        "**##P(Token | Ham) - Probability that a Token occurs given Email is Ham.**"
      ]
    },
    {
      "cell_type": "code",
      "execution_count": null,
      "id": "1716ac48-b5d7-4f34-9f6d-40fc3806a972",
      "metadata": {
        "id": "1716ac48-b5d7-4f34-9f6d-40fc3806a972",
        "outputId": "1998211c-ce0d-4b41-9bf7-ad51f5244337"
      },
      "outputs": [
        {
          "data": {
            "text/plain": [
              "0    0.021352\n",
              "1    0.010333\n",
              "2    0.008240\n",
              "3    0.003582\n",
              "4    0.006650\n",
              "dtype: float64"
            ]
          },
          "execution_count": 40,
          "metadata": {},
          "output_type": "execute_result"
        }
      ],
      "source": [
        "prob_tokens_nonspam = summed_ham_tokens / (ham_wc + VOCAB_SIZE)\n",
        "prob_tokens_nonspam[:5]"
      ]
    },
    {
      "cell_type": "code",
      "execution_count": null,
      "id": "833ec0b9-aaa9-4d81-9c24-323684678a9c",
      "metadata": {
        "id": "833ec0b9-aaa9-4d81-9c24-323684678a9c",
        "outputId": "7e9b2234-1e82-45fe-c1f7-80993de77644"
      },
      "outputs": [
        {
          "data": {
            "text/plain": [
              "1.0"
            ]
          },
          "execution_count": 41,
          "metadata": {},
          "output_type": "execute_result"
        }
      ],
      "source": [
        "prob_tokens_nonspam.sum()"
      ]
    },
    {
      "cell_type": "markdown",
      "id": "4aaae7f3-29eb-4a87-a947-4aa46aace10a",
      "metadata": {
        "id": "4aaae7f3-29eb-4a87-a947-4aa46aace10a"
      },
      "source": [
        "**##P(Token) - Probability that token occurs**"
      ]
    },
    {
      "cell_type": "code",
      "execution_count": null,
      "id": "2e2d0803-e112-479a-92af-b1c5a5d3c081",
      "metadata": {
        "id": "2e2d0803-e112-479a-92af-b1c5a5d3c081",
        "outputId": "2f72fd9e-08ca-4da3-d3e9-e3f9be567b81"
      },
      "outputs": [
        {
          "data": {
            "text/plain": [
              "1.0"
            ]
          },
          "execution_count": 42,
          "metadata": {},
          "output_type": "execute_result"
        }
      ],
      "source": [
        "prob_tokens_all = full_train_features.sum(axis = 0) / total_wc\n",
        "prob_tokens_all.sum()"
      ]
    },
    {
      "cell_type": "markdown",
      "id": "5168e326-8929-4be5-bc3e-aef25dc76c8b",
      "metadata": {
        "id": "5168e326-8929-4be5-bc3e-aef25dc76c8b"
      },
      "source": [
        "**##SAVE THE TRAINED MODEL**"
      ]
    },
    {
      "cell_type": "code",
      "execution_count": null,
      "id": "a3d886a7-f968-48a6-9a07-1b33d7fd0dfd",
      "metadata": {
        "id": "a3d886a7-f968-48a6-9a07-1b33d7fd0dfd"
      },
      "outputs": [],
      "source": [
        "np.savetxt(TOKEN_SPAM_PROB_FILE, prob_tokens_spam)\n",
        "np.savetxt(TOKEN_HAM_PROB_FILE, prob_tokens_nonspam)\n",
        "np.savetxt(TOKEN_ALL_PROB_FILE, prob_tokens_all)"
      ]
    },
    {
      "cell_type": "markdown",
      "id": "c6b5a833-fe92-4489-b8d6-938d3752befb",
      "metadata": {
        "id": "c6b5a833-fe92-4489-b8d6-938d3752befb"
      },
      "source": [
        "**##PREPARE THE TEST DATA**"
      ]
    },
    {
      "cell_type": "code",
      "execution_count": null,
      "id": "3de7e8cd-4e68-48bd-934a-fb09c750aeb1",
      "metadata": {
        "id": "3de7e8cd-4e68-48bd-934a-fb09c750aeb1",
        "outputId": "4d169664-8727-4024-bc2b-9ac907b27c68"
      },
      "outputs": [
        {
          "data": {
            "text/plain": [
              "(111952, 4)"
            ]
          },
          "execution_count": 44,
          "metadata": {},
          "output_type": "execute_result"
        }
      ],
      "source": [
        "sparse_test_data.shape"
      ]
    },
    {
      "cell_type": "code",
      "execution_count": null,
      "id": "2e208677-48a3-4d64-91b5-b9d491893f9d",
      "metadata": {
        "id": "2e208677-48a3-4d64-91b5-b9d491893f9d",
        "outputId": "b337123a-0380-471a-81f1-fc89fd6fb9c6"
      },
      "outputs": [
        {
          "name": "stdout",
          "output_type": "stream",
          "text": [
            "Wall time: 17.9 s\n"
          ]
        }
      ],
      "source": [
        "%%time\n",
        "full_test_data = make_full_matrix(sparse_test_data, nr_words = VOCAB_SIZE)"
      ]
    },
    {
      "cell_type": "code",
      "execution_count": null,
      "id": "7febbe1e-e41e-46ba-8d76-3bc7d0cabb45",
      "metadata": {
        "id": "7febbe1e-e41e-46ba-8d76-3bc7d0cabb45"
      },
      "outputs": [],
      "source": [
        "X_test = full_test_data.loc[:, full_test_data.columns != 'CATEGORY']\n",
        "y_test = full_test_data.CATEGORY"
      ]
    },
    {
      "cell_type": "code",
      "execution_count": null,
      "id": "b14a2d3c-f2dc-492a-a143-b69aa8220c89",
      "metadata": {
        "id": "b14a2d3c-f2dc-492a-a143-b69aa8220c89"
      },
      "outputs": [],
      "source": [
        "np.savetxt(TEST_TARGET_FILE, y_test)\n",
        "np.savetxt(TEST_FEARURE_MATRIX, X_test)"
      ]
    },
    {
      "cell_type": "code",
      "execution_count": null,
      "id": "1303f12b-0eaa-439d-9ef3-f4860751b5c1",
      "metadata": {
        "id": "1303f12b-0eaa-439d-9ef3-f4860751b5c1"
      },
      "outputs": [],
      "source": []
    },
    {
      "cell_type": "code",
      "execution_count": null,
      "id": "e8720caf-4440-45fa-9f26-137006a1fe46",
      "metadata": {
        "id": "e8720caf-4440-45fa-9f26-137006a1fe46"
      },
      "outputs": [],
      "source": []
    },
    {
      "cell_type": "code",
      "execution_count": null,
      "id": "ac61a111-7371-42c9-ac56-0bbcc9e8914f",
      "metadata": {
        "id": "ac61a111-7371-42c9-ac56-0bbcc9e8914f"
      },
      "outputs": [],
      "source": []
    }
  ],
  "metadata": {
    "kernelspec": {
      "display_name": "Python 3",
      "language": "python",
      "name": "python3"
    },
    "language_info": {
      "codemirror_mode": {
        "name": "ipython",
        "version": 3
      },
      "file_extension": ".py",
      "mimetype": "text/x-python",
      "name": "python",
      "nbconvert_exporter": "python",
      "pygments_lexer": "ipython3",
      "version": "3.8.8"
    },
    "colab": {
      "provenance": [],
      "include_colab_link": true
    }
  },
  "nbformat": 4,
  "nbformat_minor": 5
}