{
  "nbformat": 4,
  "nbformat_minor": 5,
  "metadata": {
    "kernelspec": {
      "display_name": "Python 3",
      "language": "python",
      "name": "python3"
    },
    "language_info": {
      "codemirror_mode": {
        "name": "ipython",
        "version": 3
      },
      "file_extension": ".py",
      "mimetype": "text/x-python",
      "name": "python",
      "nbconvert_exporter": "python",
      "pygments_lexer": "ipython3",
      "version": "3.8.8"
    },
    "colab": {
      "provenance": [],
      "include_colab_link": true
    }
  },
  "cells": [
    {
      "cell_type": "markdown",
      "metadata": {
        "id": "view-in-github",
        "colab_type": "text"
      },
      "source": [
        "<a href=\"https://colab.research.google.com/github/AdityaTanejaRox/SpamEmailClassification/blob/main/Bayes_Classifier_(1).ipynb\" target=\"_parent\"><img src=\"https://colab.research.google.com/assets/colab-badge.svg\" alt=\"Open In Colab\"/></a>"
      ]
    },
    {
      "cell_type": "markdown",
      "metadata": {
        "id": "117d683b-0482-461b-b227-ed07d1041b29"
      },
      "source": [
        "**#NOTEBOOK IMPORTS**"
      ],
      "id": "117d683b-0482-461b-b227-ed07d1041b29"
    },
    {
      "cell_type": "code",
      "metadata": {
        "id": "dd135bae-ffc5-474e-aa54-154300fb219e"
      },
      "source": [
        "from os import walk\n",
        "from os.path import join\n",
        "import pandas as pd\n",
        "import matplotlib.pyplot as plt\n",
        "%matplotlib inline\n",
        "import numpy as np\n",
        "import nltk\n",
        "from nltk.stem import PorterStemmer\n",
        "from nltk.stem import SnowballStemmer\n",
        "from nltk.corpus import stopwords\n",
        "from nltk.tokenize import word_tokenize\n",
        "from bs4 import BeautifulSoup\n",
        "from wordcloud import WordCloud\n",
        "from PIL import Image\n",
        "from sklearn.model_selection import train_test_split"
      ],
      "id": "dd135bae-ffc5-474e-aa54-154300fb219e",
      "execution_count": null,
      "outputs": []
    },
    {
      "cell_type": "markdown",
      "metadata": {
        "id": "804c906e"
      },
      "source": [
        "**CONSTANTS**"
      ],
      "id": "804c906e"
    },
    {
      "cell_type": "code",
      "metadata": {
        "id": "4738ab71"
      },
      "source": [
        "EXAMPLE_FILE = 'SpamData/01_Processing/practice_email.txt'\n",
        "\n",
        "SPAM_1_PATH = 'SpamData/01_Processing/spam_assassin_corpus/spam_1'\n",
        "\n",
        "SPAM_2_PATH = 'SpamData/01_Processing/spam_assassin_corpus/spam_2'\n",
        "\n",
        "EASY_NONSPAM_1_PATH = 'SpamData/01_Processing/spam_assassin_corpus/easy_ham_1'\n",
        "\n",
        "EASY_NONSPAM_2_PATH = 'SpamData/01_Processing/spam_assassin_corpus/easy_ham_2'\n",
        "\n",
        "SPAM_CAT = 1 #spam \n",
        "HAM_CAT = 0 #non-spam\n",
        "VOCAB_SIZE = 2500\n",
        "\n",
        "DATA_JSON_FILE = 'SpamData/01_Processing/email-text-data.json'\n",
        "WORD_ID_FILE = 'SpamData/01_Processing/word-by-id.csv'\n",
        "\n",
        "TRAINING_DATA_FILE = 'SpamData/02_Training/train-data.txt'\n",
        "TEST_DATA_FILE = 'SpamData/02_Training/test-data.txt'\n",
        "\n",
        "WHALE_FILE = 'SpamData/01_Processing/wordcloud_resources/whale-icon.png'\n",
        "SKULL_FILE = 'SpamData/01_Processing/wordcloud_resources/skull-icon.png'\n",
        "THUMBS_UP =  'SpamData/01_Processing/wordcloud_resources/thumbs-up.png'\n",
        "THUMBS_DOWN =  'SpamData/01_Processing/wordcloud_resources/thumbs-down.png'"
      ],
      "id": "4738ab71",
      "execution_count": null,
      "outputs": []
    },
    {
      "cell_type": "markdown",
      "metadata": {
        "id": "ebe25658"
      },
      "source": [
        "**READING FILES**"
      ],
      "id": "ebe25658"
    },
    {
      "cell_type": "code",
      "metadata": {
        "id": "191e1c85",
        "outputId": "df120c0f-e4d9-4317-9b1a-87af2b12b581"
      },
      "source": [
        "stream = open(EXAMPLE_FILE, encoding = 'latin-1')\n",
        "is_body = False\n",
        "lines = []\n",
        "for line in stream:\n",
        "    if is_body:\n",
        "        lines.append(line)\n",
        "    elif line=='\\n':\n",
        "        is_body = True\n",
        "        \n",
        "stream.close()\n",
        "\n",
        "email_body = '\\n'.join(lines)\n",
        "print(email_body)"
      ],
      "id": "191e1c85",
      "execution_count": null,
      "outputs": [
        {
          "name": "stdout",
          "output_type": "stream",
          "text": [
            "\n",
            "\n",
            "Dear Mr Still\n",
            "\n",
            "\n",
            "\n",
            "Good tidings to you and all your staff for the festive season ahead (Christmas).\n",
            "\n",
            "Now to the crux of the matter-in-hand: I am a fully qualified Santa Claus and am wondering whether you might consider me to run my own \"Santa's Grotto\" in your store.\n",
            "\n",
            "But WAIT! You're probably thinking: \"What makes him so special?\"\n",
            "\n",
            "Well, first of all, I have made several changes to the characterisation of Father Christmas. Rather than greeting the children with shouts of \"Ho, ho, ho!\" I prefer to whisper the phrase \"Dependence is not unfathomable in this cruel world we live in\". In addition, my gifts are ALL hand-made, ranging from felt hoops to vanilla-pod holders.\n",
            "\n",
            "You will note also, from the enclosed sketch, that I have radically redesigned Santa's outfit and have renamed my character \"Lord Buckles\". Would you be interested in employing me? I promise NEVER to let you down.\n",
            "\n",
            "I look forward to hearing from you.\n",
            "\n",
            "\n",
            "\n",
            "Best wishes\n",
            "\n",
            "Robin Cooper\n",
            "\n",
            "[Excerpt from the book: The Timewaster Letters by Robin Cooper]\n",
            "\n"
          ]
        }
      ]
    },
    {
      "cell_type": "markdown",
      "metadata": {
        "id": "31362267-5358-418f-9956-ba366a3fe917"
      },
      "source": [
        "**#GENERATOR FUNCTION**\n"
      ],
      "id": "31362267-5358-418f-9956-ba366a3fe917"
    },
    {
      "cell_type": "code",
      "metadata": {
        "id": "24d757cd-8c2d-40e2-afa3-51799a247369"
      },
      "source": [
        "def generate_squares(N):\n",
        "    for my_number in range(N):\n",
        "        yield my_number ** 2 #yield returns the value while remembering the value it exited on. \n",
        "        "
      ],
      "id": "24d757cd-8c2d-40e2-afa3-51799a247369",
      "execution_count": null,
      "outputs": []
    },
    {
      "cell_type": "markdown",
      "metadata": {
        "id": "ea7f5043-e326-45e9-8a2c-d0609a0b916e"
      },
      "source": [
        "**#EMAIL BODY EXTRACTOR**"
      ],
      "id": "ea7f5043-e326-45e9-8a2c-d0609a0b916e"
    },
    {
      "cell_type": "code",
      "metadata": {
        "id": "bb03b7f6-5e4c-422a-bb66-3b1005e42ef4"
      },
      "source": [
        "def email_body_generator(path):\n",
        "    for root, dirnames, file_names in walk(path):\n",
        "        for file_name in file_names:\n",
        "            \n",
        "            filepath = join(root, file_name)\n",
        "            stream = open(filepath, encoding = 'latin-1')\n",
        "            is_body = False\n",
        "            lines = []\n",
        "            for line in stream:\n",
        "                if is_body:\n",
        "                   lines.append(line) \n",
        "                elif line=='\\n':\n",
        "                    is_body = True\n",
        "\n",
        "            stream.close()\n",
        "\n",
        "            email_body = '\\n'.join(lines)\n",
        "            yield file_name, email_body"
      ],
      "id": "bb03b7f6-5e4c-422a-bb66-3b1005e42ef4",
      "execution_count": null,
      "outputs": []
    },
    {
      "cell_type": "code",
      "metadata": {
        "id": "2efaf893-fcea-46eb-a122-0fed32bb8baa"
      },
      "source": [
        "def df_from_directory(path, classification):\n",
        "    rows = []\n",
        "    row_names = []\n",
        "    \n",
        "    for file_name, email_body in email_body_generator(path):\n",
        "            rows.append({'MESSAGE': email_body, 'CATEGORY': classification})\n",
        "            row_names.append(file_name)\n",
        "            \n",
        "    return pd.DataFrame(rows, index=row_names)        "
      ],
      "id": "2efaf893-fcea-46eb-a122-0fed32bb8baa",
      "execution_count": null,
      "outputs": []
    },
    {
      "cell_type": "code",
      "metadata": {
        "id": "9ab666c2-e44a-4833-8aff-b40a49af45b3",
        "outputId": "ff2cd92e-a784-4d99-f61d-3d86aadc2900"
      },
      "source": [
        "spam_emails = df_from_directory(SPAM_1_PATH, SPAM_CAT)\n",
        "spam_emails = spam_emails.append(df_from_directory(SPAM_2_PATH, SPAM_CAT))\n",
        "spam_emails.head()"
      ],
      "id": "9ab666c2-e44a-4833-8aff-b40a49af45b3",
      "execution_count": null,
      "outputs": [
        {
          "data": {
            "text/html": [
              "<div>\n",
              "<style scoped>\n",
              "    .dataframe tbody tr th:only-of-type {\n",
              "        vertical-align: middle;\n",
              "    }\n",
              "\n",
              "    .dataframe tbody tr th {\n",
              "        vertical-align: top;\n",
              "    }\n",
              "\n",
              "    .dataframe thead th {\n",
              "        text-align: right;\n",
              "    }\n",
              "</style>\n",
              "<table border=\"1\" class=\"dataframe\">\n",
              "  <thead>\n",
              "    <tr style=\"text-align: right;\">\n",
              "      <th></th>\n",
              "      <th>MESSAGE</th>\n",
              "      <th>CATEGORY</th>\n",
              "    </tr>\n",
              "  </thead>\n",
              "  <tbody>\n",
              "    <tr>\n",
              "      <th>00001.7848dde101aa985090474a91ec93fcf0</th>\n",
              "      <td>&lt;!DOCTYPE HTML PUBLIC \"-//W3C//DTD HTML 4.0 Tr...</td>\n",
              "      <td>1</td>\n",
              "    </tr>\n",
              "    <tr>\n",
              "      <th>00002.d94f1b97e48ed3b553b3508d116e6a09</th>\n",
              "      <td>1) Fight The Risk of Cancer!\\n\\nhttp://www.adc...</td>\n",
              "      <td>1</td>\n",
              "    </tr>\n",
              "    <tr>\n",
              "      <th>00003.2ee33bc6eacdb11f38d052c44819ba6c</th>\n",
              "      <td>1) Fight The Risk of Cancer!\\n\\nhttp://www.adc...</td>\n",
              "      <td>1</td>\n",
              "    </tr>\n",
              "    <tr>\n",
              "      <th>00004.eac8de8d759b7e74154f142194282724</th>\n",
              "      <td>##############################################...</td>\n",
              "      <td>1</td>\n",
              "    </tr>\n",
              "    <tr>\n",
              "      <th>00005.57696a39d7d84318ce497886896bf90d</th>\n",
              "      <td>I thought you might like these:\\n\\n1) Slim Dow...</td>\n",
              "      <td>1</td>\n",
              "    </tr>\n",
              "  </tbody>\n",
              "</table>\n",
              "</div>"
            ],
            "text/plain": [
              "                                                                                  MESSAGE  \\\n",
              "00001.7848dde101aa985090474a91ec93fcf0  <!DOCTYPE HTML PUBLIC \"-//W3C//DTD HTML 4.0 Tr...   \n",
              "00002.d94f1b97e48ed3b553b3508d116e6a09  1) Fight The Risk of Cancer!\\n\\nhttp://www.adc...   \n",
              "00003.2ee33bc6eacdb11f38d052c44819ba6c  1) Fight The Risk of Cancer!\\n\\nhttp://www.adc...   \n",
              "00004.eac8de8d759b7e74154f142194282724  ##############################################...   \n",
              "00005.57696a39d7d84318ce497886896bf90d  I thought you might like these:\\n\\n1) Slim Dow...   \n",
              "\n",
              "                                        CATEGORY  \n",
              "00001.7848dde101aa985090474a91ec93fcf0         1  \n",
              "00002.d94f1b97e48ed3b553b3508d116e6a09         1  \n",
              "00003.2ee33bc6eacdb11f38d052c44819ba6c         1  \n",
              "00004.eac8de8d759b7e74154f142194282724         1  \n",
              "00005.57696a39d7d84318ce497886896bf90d         1  "
            ]
          },
          "execution_count": 7,
          "metadata": {},
          "output_type": "execute_result"
        }
      ]
    },
    {
      "cell_type": "code",
      "metadata": {
        "id": "a590861a-1fa7-4adf-83fc-0c1b0850ff09",
        "outputId": "1ed9578e-27ee-4fcb-b20b-c9b0977ccc56"
      },
      "source": [
        "spam_emails.shape"
      ],
      "id": "a590861a-1fa7-4adf-83fc-0c1b0850ff09",
      "execution_count": null,
      "outputs": [
        {
          "data": {
            "text/plain": [
              "(1898, 2)"
            ]
          },
          "execution_count": 8,
          "metadata": {},
          "output_type": "execute_result"
        }
      ]
    },
    {
      "cell_type": "code",
      "metadata": {
        "id": "fec6972d-c030-4b66-a180-ee9384cef703",
        "outputId": "fbd1c2ae-f187-44ec-b6fd-5c63c8ed926a"
      },
      "source": [
        "ham_emails = df_from_directory(EASY_NONSPAM_1_PATH, HAM_CAT)\n",
        "ham_emails = ham_emails.append(df_from_directory(EASY_NONSPAM_2_PATH, HAM_CAT))\n",
        "ham_emails.shape"
      ],
      "id": "fec6972d-c030-4b66-a180-ee9384cef703",
      "execution_count": null,
      "outputs": [
        {
          "data": {
            "text/plain": [
              "(3901, 2)"
            ]
          },
          "execution_count": 9,
          "metadata": {},
          "output_type": "execute_result"
        }
      ]
    },
    {
      "cell_type": "code",
      "metadata": {
        "id": "bd122831-da60-4296-b9da-5c99ad392b41",
        "outputId": "4235196c-6015-49b3-f7bc-39bdbd296e9f"
      },
      "source": [
        "data = pd.concat([spam_emails, ham_emails])\n",
        "print(\"Shape of entire dataframe is \", data.shape)"
      ],
      "id": "bd122831-da60-4296-b9da-5c99ad392b41",
      "execution_count": null,
      "outputs": [
        {
          "name": "stdout",
          "output_type": "stream",
          "text": [
            "Shape of entire dataframe is  (5799, 2)\n"
          ]
        }
      ]
    },
    {
      "cell_type": "markdown",
      "metadata": {
        "id": "5d385c29-39f0-457d-9a45-8e7c660af69e"
      },
      "source": [
        "**#DATA CLEANING AND CHECKING FOR MISSING VALUES**"
      ],
      "id": "5d385c29-39f0-457d-9a45-8e7c660af69e"
    },
    {
      "cell_type": "code",
      "metadata": {
        "id": "481289bc-9814-4b18-a595-ab1948e1b818",
        "outputId": "70cbcf5d-d794-4273-9e6e-6bd9d137a8a4"
      },
      "source": [
        "#check if message body == null.\n",
        "data['MESSAGE'].isnull().values.any()"
      ],
      "id": "481289bc-9814-4b18-a595-ab1948e1b818",
      "execution_count": null,
      "outputs": [
        {
          "data": {
            "text/plain": [
              "False"
            ]
          },
          "execution_count": 11,
          "metadata": {},
          "output_type": "execute_result"
        }
      ]
    },
    {
      "cell_type": "code",
      "metadata": {
        "id": "8a41395c-4f18-4e7c-8c15-ba634b11498c",
        "outputId": "e2e3bbc7-9b8f-451c-c72d-31bf896e177e"
      },
      "source": [
        "#check if there are empty emails i.e str.len = 0\n",
        "(data.MESSAGE.str.len() == 0).any()"
      ],
      "id": "8a41395c-4f18-4e7c-8c15-ba634b11498c",
      "execution_count": null,
      "outputs": [
        {
          "data": {
            "text/plain": [
              "True"
            ]
          },
          "execution_count": 12,
          "metadata": {},
          "output_type": "execute_result"
        }
      ]
    },
    {
      "cell_type": "code",
      "metadata": {
        "id": "15b3edda-12b5-4744-be08-260c122331d4",
        "outputId": "f299b3d2-3c0a-4f35-f29b-ef9d6562d938"
      },
      "source": [
        "(data.MESSAGE.str.len() == 0).sum()"
      ],
      "id": "15b3edda-12b5-4744-be08-260c122331d4",
      "execution_count": null,
      "outputs": [
        {
          "data": {
            "text/plain": [
              "3"
            ]
          },
          "execution_count": 13,
          "metadata": {},
          "output_type": "execute_result"
        }
      ]
    },
    {
      "cell_type": "code",
      "metadata": {
        "id": "edda629c-94cd-44e4-98f3-0137238ca514",
        "outputId": "dca83857-d5b6-45f3-af2a-45462d806608"
      },
      "source": [
        "data.MESSAGE.isnull().sum()"
      ],
      "id": "edda629c-94cd-44e4-98f3-0137238ca514",
      "execution_count": null,
      "outputs": [
        {
          "data": {
            "text/plain": [
              "0"
            ]
          },
          "execution_count": 14,
          "metadata": {},
          "output_type": "execute_result"
        }
      ]
    },
    {
      "cell_type": "markdown",
      "metadata": {
        "id": "732f1556-c2c5-4833-b0e2-499226178855"
      },
      "source": [
        "**#LOCATE EMPTY EMAILS**"
      ],
      "id": "732f1556-c2c5-4833-b0e2-499226178855"
    },
    {
      "cell_type": "code",
      "metadata": {
        "id": "35962e5f-06fd-4def-bb7e-25905c9fb137",
        "outputId": "08fa92c9-639c-4bf0-e932-a857fbbe0890"
      },
      "source": [
        "data[data.MESSAGE.str.len() == 0].index"
      ],
      "id": "35962e5f-06fd-4def-bb7e-25905c9fb137",
      "execution_count": null,
      "outputs": [
        {
          "data": {
            "text/plain": [
              "Index(['cmds', 'cmds', 'cmds'], dtype='object')"
            ]
          },
          "execution_count": 15,
          "metadata": {},
          "output_type": "execute_result"
        }
      ]
    },
    {
      "cell_type": "code",
      "metadata": {
        "id": "0e094497-d4e8-472d-9e6d-7813e93122d4",
        "outputId": "8bae376a-9ec5-413c-96de-89fe46e7156c"
      },
      "source": [
        "data.index.get_loc('cmds')"
      ],
      "id": "0e094497-d4e8-472d-9e6d-7813e93122d4",
      "execution_count": null,
      "outputs": [
        {
          "data": {
            "text/plain": [
              "array([False, False, False, ..., False, False, False])"
            ]
          },
          "execution_count": 16,
          "metadata": {},
          "output_type": "execute_result"
        }
      ]
    },
    {
      "cell_type": "markdown",
      "metadata": {
        "id": "167c9e64-1592-44af-af7b-eda23b701fcf"
      },
      "source": [
        "**#REMOVE SYSTEM FILE ENTRIES FROM DATAFRAME**"
      ],
      "id": "167c9e64-1592-44af-af7b-eda23b701fcf"
    },
    {
      "cell_type": "code",
      "metadata": {
        "id": "18e4a69d-2459-4067-8bad-4e84448e97f0",
        "outputId": "1cf112e4-0f49-40aa-9abd-1eda28e11a2f"
      },
      "source": [
        "data.shape\n"
      ],
      "id": "18e4a69d-2459-4067-8bad-4e84448e97f0",
      "execution_count": null,
      "outputs": [
        {
          "data": {
            "text/plain": [
              "(5799, 2)"
            ]
          },
          "execution_count": 17,
          "metadata": {},
          "output_type": "execute_result"
        }
      ]
    },
    {
      "cell_type": "markdown",
      "metadata": {
        "id": "61dbe780-4bf2-477b-8cca-315e84e0362c"
      },
      "source": [
        "**#ADD DOCUMENT IDS TO TRACK EMAILS IN THE DATASET**"
      ],
      "id": "61dbe780-4bf2-477b-8cca-315e84e0362c"
    },
    {
      "cell_type": "code",
      "metadata": {
        "id": "ed4c604b-d115-4331-8b9f-b8f57bb6c013"
      },
      "source": [
        "document_ids = range(0, len(data.index))\n",
        "data['DOC_ID'] = document_ids"
      ],
      "id": "ed4c604b-d115-4331-8b9f-b8f57bb6c013",
      "execution_count": null,
      "outputs": []
    },
    {
      "cell_type": "code",
      "metadata": {
        "id": "15d9065a-5bcc-45cc-a8b0-6a7d51690ae1",
        "outputId": "858dea9d-43d8-48bb-96df-eca0a9ff5ff5"
      },
      "source": [
        "data['FILE_NAME'] = data.index\n",
        "data = data.set_index('DOC_ID')\n",
        "data.head()"
      ],
      "id": "15d9065a-5bcc-45cc-a8b0-6a7d51690ae1",
      "execution_count": null,
      "outputs": [
        {
          "data": {
            "text/html": [
              "<div>\n",
              "<style scoped>\n",
              "    .dataframe tbody tr th:only-of-type {\n",
              "        vertical-align: middle;\n",
              "    }\n",
              "\n",
              "    .dataframe tbody tr th {\n",
              "        vertical-align: top;\n",
              "    }\n",
              "\n",
              "    .dataframe thead th {\n",
              "        text-align: right;\n",
              "    }\n",
              "</style>\n",
              "<table border=\"1\" class=\"dataframe\">\n",
              "  <thead>\n",
              "    <tr style=\"text-align: right;\">\n",
              "      <th></th>\n",
              "      <th>MESSAGE</th>\n",
              "      <th>CATEGORY</th>\n",
              "      <th>FILE_NAME</th>\n",
              "    </tr>\n",
              "    <tr>\n",
              "      <th>DOC_ID</th>\n",
              "      <th></th>\n",
              "      <th></th>\n",
              "      <th></th>\n",
              "    </tr>\n",
              "  </thead>\n",
              "  <tbody>\n",
              "    <tr>\n",
              "      <th>0</th>\n",
              "      <td>&lt;!DOCTYPE HTML PUBLIC \"-//W3C//DTD HTML 4.0 Tr...</td>\n",
              "      <td>1</td>\n",
              "      <td>00001.7848dde101aa985090474a91ec93fcf0</td>\n",
              "    </tr>\n",
              "    <tr>\n",
              "      <th>1</th>\n",
              "      <td>1) Fight The Risk of Cancer!\\n\\nhttp://www.adc...</td>\n",
              "      <td>1</td>\n",
              "      <td>00002.d94f1b97e48ed3b553b3508d116e6a09</td>\n",
              "    </tr>\n",
              "    <tr>\n",
              "      <th>2</th>\n",
              "      <td>1) Fight The Risk of Cancer!\\n\\nhttp://www.adc...</td>\n",
              "      <td>1</td>\n",
              "      <td>00003.2ee33bc6eacdb11f38d052c44819ba6c</td>\n",
              "    </tr>\n",
              "    <tr>\n",
              "      <th>3</th>\n",
              "      <td>##############################################...</td>\n",
              "      <td>1</td>\n",
              "      <td>00004.eac8de8d759b7e74154f142194282724</td>\n",
              "    </tr>\n",
              "    <tr>\n",
              "      <th>4</th>\n",
              "      <td>I thought you might like these:\\n\\n1) Slim Dow...</td>\n",
              "      <td>1</td>\n",
              "      <td>00005.57696a39d7d84318ce497886896bf90d</td>\n",
              "    </tr>\n",
              "  </tbody>\n",
              "</table>\n",
              "</div>"
            ],
            "text/plain": [
              "                                                  MESSAGE  CATEGORY  \\\n",
              "DOC_ID                                                                \n",
              "0       <!DOCTYPE HTML PUBLIC \"-//W3C//DTD HTML 4.0 Tr...         1   \n",
              "1       1) Fight The Risk of Cancer!\\n\\nhttp://www.adc...         1   \n",
              "2       1) Fight The Risk of Cancer!\\n\\nhttp://www.adc...         1   \n",
              "3       ##############################################...         1   \n",
              "4       I thought you might like these:\\n\\n1) Slim Dow...         1   \n",
              "\n",
              "                                     FILE_NAME  \n",
              "DOC_ID                                          \n",
              "0       00001.7848dde101aa985090474a91ec93fcf0  \n",
              "1       00002.d94f1b97e48ed3b553b3508d116e6a09  \n",
              "2       00003.2ee33bc6eacdb11f38d052c44819ba6c  \n",
              "3       00004.eac8de8d759b7e74154f142194282724  \n",
              "4       00005.57696a39d7d84318ce497886896bf90d  "
            ]
          },
          "execution_count": 19,
          "metadata": {},
          "output_type": "execute_result"
        }
      ]
    },
    {
      "cell_type": "code",
      "metadata": {
        "id": "e8110683-b039-46e6-b24a-72578f1b6e46",
        "outputId": "73a9bcba-4d89-4a65-c571-5cc392e12a8e"
      },
      "source": [
        "data.tail()"
      ],
      "id": "e8110683-b039-46e6-b24a-72578f1b6e46",
      "execution_count": null,
      "outputs": [
        {
          "data": {
            "text/html": [
              "<div>\n",
              "<style scoped>\n",
              "    .dataframe tbody tr th:only-of-type {\n",
              "        vertical-align: middle;\n",
              "    }\n",
              "\n",
              "    .dataframe tbody tr th {\n",
              "        vertical-align: top;\n",
              "    }\n",
              "\n",
              "    .dataframe thead th {\n",
              "        text-align: right;\n",
              "    }\n",
              "</style>\n",
              "<table border=\"1\" class=\"dataframe\">\n",
              "  <thead>\n",
              "    <tr style=\"text-align: right;\">\n",
              "      <th></th>\n",
              "      <th>MESSAGE</th>\n",
              "      <th>CATEGORY</th>\n",
              "      <th>FILE_NAME</th>\n",
              "    </tr>\n",
              "    <tr>\n",
              "      <th>DOC_ID</th>\n",
              "      <th></th>\n",
              "      <th></th>\n",
              "      <th></th>\n",
              "    </tr>\n",
              "  </thead>\n",
              "  <tbody>\n",
              "    <tr>\n",
              "      <th>5794</th>\n",
              "      <td>http://news.bbc.co.uk/1/hi/england/2515127.stm...</td>\n",
              "      <td>0</td>\n",
              "      <td>01396.61983fbe6ec43f55fd44e30fce24ffa6</td>\n",
              "    </tr>\n",
              "    <tr>\n",
              "      <th>5795</th>\n",
              "      <td>&gt; &gt;-- be careful when using this one.) Also, t...</td>\n",
              "      <td>0</td>\n",
              "      <td>01397.9f9ef4c2a8dc012d80f2ce2d3473d3b7</td>\n",
              "    </tr>\n",
              "    <tr>\n",
              "      <th>5796</th>\n",
              "      <td>&gt;&gt;&gt;&gt;&gt; \"SM\" == Skip Montanaro &lt;skip@pobox.com&gt; ...</td>\n",
              "      <td>0</td>\n",
              "      <td>01398.169b51731fe569f42169ae8f948ec676</td>\n",
              "    </tr>\n",
              "    <tr>\n",
              "      <th>5797</th>\n",
              "      <td>So then, \"Mark Hammond\" &lt;mhammond@skippinet.co...</td>\n",
              "      <td>0</td>\n",
              "      <td>01399.ca6b00b7b341bbde9a9ea3dd6a7bf896</td>\n",
              "    </tr>\n",
              "    <tr>\n",
              "      <th>5798</th>\n",
              "      <td>Hi there,\\n\\n\\n\\nNow this is probably of no us...</td>\n",
              "      <td>0</td>\n",
              "      <td>01400.f897f0931e461e7b2e964d28e927c35e</td>\n",
              "    </tr>\n",
              "  </tbody>\n",
              "</table>\n",
              "</div>"
            ],
            "text/plain": [
              "                                                  MESSAGE  CATEGORY  \\\n",
              "DOC_ID                                                                \n",
              "5794    http://news.bbc.co.uk/1/hi/england/2515127.stm...         0   \n",
              "5795    > >-- be careful when using this one.) Also, t...         0   \n",
              "5796    >>>>> \"SM\" == Skip Montanaro <skip@pobox.com> ...         0   \n",
              "5797    So then, \"Mark Hammond\" <mhammond@skippinet.co...         0   \n",
              "5798    Hi there,\\n\\n\\n\\nNow this is probably of no us...         0   \n",
              "\n",
              "                                     FILE_NAME  \n",
              "DOC_ID                                          \n",
              "5794    01396.61983fbe6ec43f55fd44e30fce24ffa6  \n",
              "5795    01397.9f9ef4c2a8dc012d80f2ce2d3473d3b7  \n",
              "5796    01398.169b51731fe569f42169ae8f948ec676  \n",
              "5797    01399.ca6b00b7b341bbde9a9ea3dd6a7bf896  \n",
              "5798    01400.f897f0931e461e7b2e964d28e927c35e  "
            ]
          },
          "execution_count": 20,
          "metadata": {},
          "output_type": "execute_result"
        }
      ]
    },
    {
      "cell_type": "markdown",
      "metadata": {
        "id": "4f638a67-30ed-43cf-850d-4036ded2b1b0"
      },
      "source": [
        "**#SAVE TO FILE USING PANDAS**"
      ],
      "id": "4f638a67-30ed-43cf-850d-4036ded2b1b0"
    },
    {
      "cell_type": "code",
      "metadata": {
        "id": "be6491e1-0ac6-4f64-b7a1-c2e9b7b35176"
      },
      "source": [
        "data.to_json(DATA_JSON_FILE)"
      ],
      "id": "be6491e1-0ac6-4f64-b7a1-c2e9b7b35176",
      "execution_count": null,
      "outputs": []
    },
    {
      "cell_type": "markdown",
      "metadata": {
        "id": "5343b82c-ab0f-44d6-9474-8738d442c200"
      },
      "source": [
        "**#NUMBER OF SPAM MESSAGES VISUALIZED (PIE CHARTS)** "
      ],
      "id": "5343b82c-ab0f-44d6-9474-8738d442c200"
    },
    {
      "cell_type": "code",
      "metadata": {
        "id": "ec23254c-5dd6-4a0e-9c3d-f8cfe4dcb848",
        "outputId": "6b328130-17c8-49f5-dad8-b9b971921000"
      },
      "source": [
        "data.CATEGORY.value_counts()"
      ],
      "id": "ec23254c-5dd6-4a0e-9c3d-f8cfe4dcb848",
      "execution_count": null,
      "outputs": [
        {
          "data": {
            "text/plain": [
              "0    3901\n",
              "1    1898\n",
              "Name: CATEGORY, dtype: int64"
            ]
          },
          "execution_count": 22,
          "metadata": {},
          "output_type": "execute_result"
        }
      ]
    },
    {
      "cell_type": "code",
      "metadata": {
        "id": "c92e645c-b2be-4bcb-ab71-636393b387eb"
      },
      "source": [
        "amount_of_spam = data.CATEGORY.value_counts()[1]\n",
        "amount_of_ham = data.CATEGORY.value_counts()[0]"
      ],
      "id": "c92e645c-b2be-4bcb-ab71-636393b387eb",
      "execution_count": null,
      "outputs": []
    },
    {
      "cell_type": "code",
      "metadata": {
        "id": "e5babf4a-c750-4ed5-a0f7-e5a3282d9a69",
        "outputId": "32143e91-6080-4474-8db7-88bf38c6d93e"
      },
      "source": [
        "category_names = ['Spam', 'Legit Mail']\n",
        "sizes = [amount_of_spam, amount_of_ham]\n",
        "\n",
        "plt.figure(figsize=(2,2), dpi=200)\n",
        "plt.pie(sizes, labels=category_names, textprops={'fontsize':6}, autopct='%1.1f%%', explode=[0,0.1])\n",
        "plt.show()"
      ],
      "id": "e5babf4a-c750-4ed5-a0f7-e5a3282d9a69",
      "execution_count": null,
      "outputs": [
        {
          "data": {
            "image/png": "[encoded data removed]",
            "text/plain": [
              "<Figure size 400x400 with 1 Axes>"
            ]
          },
          "metadata": {},
          "output_type": "display_data"
        }
      ]
    },
    {
      "cell_type": "markdown",
      "metadata": {
        "id": "8e2db7fe-4207-41e8-bfb6-61abe1c1b736"
      },
      "source": [
        "**#NATURAL LANGUAGE PROCESSING**\n",
        "\n",
        "**Text Pre-Processing**"
      ],
      "id": "8e2db7fe-4207-41e8-bfb6-61abe1c1b736"
    },
    {
      "cell_type": "markdown",
      "metadata": {
        "id": "3d6b15fb-6959-47ac-9dd9-2725da3ab060"
      },
      "source": [
        "#**DOWNLOADING THE NLTK RESOURCES (Tokenizer & Stopwords)**"
      ],
      "id": "3d6b15fb-6959-47ac-9dd9-2725da3ab060"
    },
    {
      "cell_type": "code",
      "metadata": {
        "id": "13988293-30c1-4701-9a26-901eee76ee7d",
        "colab": {
          "base_uri": "https://localhost:8080/",
          "height": 166
        },
        "outputId": "678d33e3-e5d2-4bbf-89c4-7dee781611ed"
      },
      "source": [
        "nltk.download('punkt')"
      ],
      "id": "13988293-30c1-4701-9a26-901eee76ee7d",
      "execution_count": null,
      "outputs": [
        {
          "output_type": "error",
          "ename": "NameError",
          "evalue": "ignored",
          "traceback": [
            "\u001b[0;31m---------------------------------------------------------------------------\u001b[0m",
            "\u001b[0;31mNameError\u001b[0m                                 Traceback (most recent call last)",
            "\u001b[0;32m<ipython-input-1-9533fb74b295>\u001b[0m in \u001b[0;36m<module>\u001b[0;34m()\u001b[0m\n\u001b[0;32m----> 1\u001b[0;31m \u001b[0mnltk\u001b[0m\u001b[0;34m.\u001b[0m\u001b[0mdownload\u001b[0m\u001b[0;34m(\u001b[0m\u001b[0;34m'punkt'\u001b[0m\u001b[0;34m)\u001b[0m\u001b[0;34m\u001b[0m\u001b[0;34m\u001b[0m\u001b[0m\n\u001b[0m",
            "\u001b[0;31mNameError\u001b[0m: name 'nltk' is not defined"
          ]
        }
      ]
    },
    {
      "cell_type": "code",
      "metadata": {
        "id": "0e7c407e-d96c-41ee-b79f-62183eb77997"
      },
      "source": [
        "nltk.download('stopwords')"
      ],
      "id": "0e7c407e-d96c-41ee-b79f-62183eb77997",
      "execution_count": null,
      "outputs": []
    },
    {
      "cell_type": "code",
      "metadata": {
        "id": "48d751f0-026a-41b3-9e19-9c807d8adf34"
      },
      "source": [
        "nltk.download('gutenberg')\n",
        "nltk.download('shakespeare')"
      ],
      "id": "48d751f0-026a-41b3-9e19-9c807d8adf34",
      "execution_count": null,
      "outputs": []
    },
    {
      "cell_type": "markdown",
      "metadata": {
        "id": "7c79e5bb-9e6b-40eb-b49a-1cb03f801e5f"
      },
      "source": [
        "**#REMOVING STOPWORDS**"
      ],
      "id": "7c79e5bb-9e6b-40eb-b49a-1cb03f801e5f"
    },
    {
      "cell_type": "code",
      "metadata": {
        "id": "f10ab5e0-f126-474c-805a-88e4c335436e"
      },
      "source": [
        "stop_words = set(stopwords.words('english'))"
      ],
      "id": "f10ab5e0-f126-474c-805a-88e4c335436e",
      "execution_count": null,
      "outputs": []
    },
    {
      "cell_type": "code",
      "metadata": {
        "id": "d54bfa8b-d144-4cc6-8661-a94575d5bd65"
      },
      "source": [
        "msg = \"All work and no play makes Aditya a dull boy.\"\n",
        "words = word_tokenize(msg.lower())\n",
        "\n",
        "stemmer = PorterStemmer()\n",
        "\n",
        "filtered_words = []\n",
        "for word in words:\n",
        "    if word not in stop_words:\n",
        "        stemmed_word = stemmer.stem(word)\n",
        "        filtered_words.append(stemmed_word)\n",
        "print(filtered_words)        "
      ],
      "id": "d54bfa8b-d144-4cc6-8661-a94575d5bd65",
      "execution_count": null,
      "outputs": []
    },
    {
      "cell_type": "markdown",
      "metadata": {
        "id": "04f21f6f-de32-40e8-a0d5-1b9825855093"
      },
      "source": [
        "**#WORD STEMMING**"
      ],
      "id": "04f21f6f-de32-40e8-a0d5-1b9825855093"
    },
    {
      "cell_type": "code",
      "metadata": {
        "id": "206bc8e2-054e-404a-ad63-9e836caee009"
      },
      "source": [
        "msg = \"All work and no play makes Aditya a dull boy.\"\n",
        "words = word_tokenize(msg.lower())\n",
        "\n",
        "stemmer = PorterStemmer()\n",
        "\n",
        "filtered_words = []\n",
        "for word in words:\n",
        "    if word not in stop_words:\n",
        "        stemmed_word = stemmer.stem(word)\n",
        "        filtered_words.append(stemmed_word)\n",
        "print(filtered_words)        "
      ],
      "id": "206bc8e2-054e-404a-ad63-9e836caee009",
      "execution_count": null,
      "outputs": []
    },
    {
      "cell_type": "markdown",
      "metadata": {
        "id": "23c57dc1-f72a-4c15-813e-630dce7c3e58"
      },
      "source": [
        "**#REMOVING PUNCTUATIONS**"
      ],
      "id": "23c57dc1-f72a-4c15-813e-630dce7c3e58"
    },
    {
      "cell_type": "code",
      "metadata": {
        "id": "9fec1070-a6c3-42bc-acf2-11f17d4aef66"
      },
      "source": [
        "msg = \"All work and no play makes Aditya a dull boy.???\"\n",
        "words = word_tokenize(msg.lower())\n",
        "\n",
        "stemmer = SnowballStemmer('english')\n",
        "\n",
        "filtered_words = []\n",
        "for word in words:\n",
        "    if word not in stop_words and word.isalpha():\n",
        "        stemmed_word = stemmer.stem(word)\n",
        "        filtered_words.append(stemmed_word)\n",
        "print(filtered_words)        "
      ],
      "id": "9fec1070-a6c3-42bc-acf2-11f17d4aef66",
      "execution_count": null,
      "outputs": []
    },
    {
      "cell_type": "markdown",
      "metadata": {
        "id": "dce756cf-124c-4aad-836b-7e5f3fe015de"
      },
      "source": [
        "**#REMOVING HTML TAGS**"
      ],
      "id": "dce756cf-124c-4aad-836b-7e5f3fe015de"
    },
    {
      "cell_type": "code",
      "metadata": {
        "id": "04313c78-5e7a-4e03-9191-e1c55c32143f"
      },
      "source": [
        "soup = BeautifulSoup(data.at[2, 'MESSAGE'], 'html.parser')\n",
        "print(soup.prettify())"
      ],
      "id": "04313c78-5e7a-4e03-9191-e1c55c32143f",
      "execution_count": null,
      "outputs": []
    },
    {
      "cell_type": "code",
      "metadata": {
        "id": "1ed9c3ae-2cc3-4d8d-9444-32fc28dad5a9"
      },
      "source": [
        "soup.get_text()"
      ],
      "id": "1ed9c3ae-2cc3-4d8d-9444-32fc28dad5a9",
      "execution_count": null,
      "outputs": []
    },
    {
      "cell_type": "markdown",
      "metadata": {
        "id": "9ef3ddcf-fd6d-40bf-a0b9-06c818585b7a"
      },
      "source": [
        "**#FUNCTIONS FOR EMAIL PROCESSING**"
      ],
      "id": "9ef3ddcf-fd6d-40bf-a0b9-06c818585b7a"
    },
    {
      "cell_type": "code",
      "metadata": {
        "id": "1a9c3f1b-7a45-4136-a9fb-c3eca4e25966"
      },
      "source": [
        "def clean_message(message, stemmer = PorterStemmer(), stop_words = set(stopwords.words('english'))):\n",
        "    words = word_tokenize(message.lower())\n",
        "    \n",
        "    filtered_words = []\n",
        "    \n",
        "    for word in words:\n",
        "        if word not in stop_words and word.isalpha():\n",
        "            filtered_words.append(stemmer.stem(word))\n",
        "    \n",
        "    return filtered_words"
      ],
      "id": "1a9c3f1b-7a45-4136-a9fb-c3eca4e25966",
      "execution_count": null,
      "outputs": []
    },
    {
      "cell_type": "code",
      "metadata": {
        "id": "98d4d247-c44a-4ca8-a531-28427827e292"
      },
      "source": [
        "clean_message(email_body)"
      ],
      "id": "98d4d247-c44a-4ca8-a531-28427827e292",
      "execution_count": null,
      "outputs": []
    },
    {
      "cell_type": "code",
      "metadata": {
        "id": "77670232-257e-4531-9a62-738178d06717"
      },
      "source": [
        "def clean_message_no_html(message, stemmer = PorterStemmer(), stop_words = set(stopwords.words('english'))):\n",
        "    \n",
        "    soup = BeautifulSoup(message, 'html.parser')\n",
        "    cleaned_text = soup.get_text()\n",
        "    \n",
        "    words = word_tokenize(cleaned_text.lower())\n",
        "    \n",
        "    filtered_words = []\n",
        "    \n",
        "    for word in words:\n",
        "        if word not in stop_words and word.isalpha():\n",
        "            filtered_words.append(stemmer.stem(word))\n",
        "    \n",
        "    return filtered_words"
      ],
      "id": "77670232-257e-4531-9a62-738178d06717",
      "execution_count": null,
      "outputs": []
    },
    {
      "cell_type": "code",
      "metadata": {
        "id": "6168748f-399d-49fa-ad2c-a827c221427f"
      },
      "source": [
        "clean_message_no_html(data.at[2, 'MESSAGE'])"
      ],
      "id": "6168748f-399d-49fa-ad2c-a827c221427f",
      "execution_count": null,
      "outputs": []
    },
    {
      "cell_type": "markdown",
      "metadata": {
        "id": "ef870fc3-84ca-48b7-b4b7-b35e84b3d553"
      },
      "source": [
        "**#APPLY CLEANING AND TOKENIZATION TO ALL EMAILS**\n",
        "\n",
        "**Slicing Dataframes and Series & Creating Subsets**"
      ],
      "id": "ef870fc3-84ca-48b7-b4b7-b35e84b3d553"
    },
    {
      "cell_type": "code",
      "metadata": {
        "id": "c4474a73-59fd-414f-b704-6da9009bc48c"
      },
      "source": [
        "data.iloc[5:11]"
      ],
      "id": "c4474a73-59fd-414f-b704-6da9009bc48c",
      "execution_count": null,
      "outputs": []
    },
    {
      "cell_type": "code",
      "metadata": {
        "id": "be0498c7-1836-4483-bc5c-28694efe8123"
      },
      "source": [
        "first_emails = data.MESSAGE.iloc[0:3]\n",
        "\n",
        "nested_list = first_emails.apply(clean_message)"
      ],
      "id": "be0498c7-1836-4483-bc5c-28694efe8123",
      "execution_count": null,
      "outputs": []
    },
    {
      "cell_type": "code",
      "metadata": {
        "id": "ad564ebe-fe86-494e-a130-8e90dfde3330"
      },
      "source": [
        "# flat_list = []\n",
        "# for sublist in nested_list:\n",
        "#     for item in sublist:\n",
        "#         flat_list.append(item)\n",
        "        \n",
        "flat_list = [item for sublist in nested_list for item in sublist]\n",
        "\n",
        "    \n",
        "len(flat_list)  "
      ],
      "id": "ad564ebe-fe86-494e-a130-8e90dfde3330",
      "execution_count": null,
      "outputs": []
    },
    {
      "cell_type": "code",
      "metadata": {
        "id": "73d26526-bce9-4059-9e5c-f6803371e994"
      },
      "source": [
        "%%time\n",
        "\n",
        "nested_list = data['MESSAGE'].apply(clean_message_no_html)"
      ],
      "id": "73d26526-bce9-4059-9e5c-f6803371e994",
      "execution_count": null,
      "outputs": []
    },
    {
      "cell_type": "code",
      "metadata": {
        "id": "3cb2a4e6-f2c0-49fa-907d-5ff5738d2066"
      },
      "source": [
        "nested_list.head()"
      ],
      "id": "3cb2a4e6-f2c0-49fa-907d-5ff5738d2066",
      "execution_count": null,
      "outputs": []
    },
    {
      "cell_type": "markdown",
      "metadata": {
        "id": "3a4b8db2-507d-4e89-8af7-5e25a952385c"
      },
      "source": [
        "**#USING LOGIC TO SLICE DATAFRAMES**"
      ],
      "id": "3a4b8db2-507d-4e89-8af7-5e25a952385c"
    },
    {
      "cell_type": "code",
      "metadata": {
        "id": "33919c86-1ea1-41a7-87f8-2a05049e5ad6"
      },
      "source": [
        "data[data.CATEGORY == 1].shape"
      ],
      "id": "33919c86-1ea1-41a7-87f8-2a05049e5ad6",
      "execution_count": null,
      "outputs": []
    },
    {
      "cell_type": "code",
      "metadata": {
        "id": "65ce98f9-0534-461e-a4a0-749ab188b84b"
      },
      "source": [
        "doc_ids_spam = data[data.CATEGORY == 1].index\n",
        "doc_ids_ham = data[data.CATEGORY == 0].index"
      ],
      "id": "65ce98f9-0534-461e-a4a0-749ab188b84b",
      "execution_count": null,
      "outputs": []
    },
    {
      "cell_type": "markdown",
      "metadata": {
        "id": "09e0e81c-f185-4cb1-bbda-89675e3ca64f"
      },
      "source": [
        "**#SUBSETTING SERIES WITH AN INDEX**"
      ],
      "id": "09e0e81c-f185-4cb1-bbda-89675e3ca64f"
    },
    {
      "cell_type": "code",
      "metadata": {
        "id": "deacc226-0112-4b8c-80d4-18fa854dd847"
      },
      "source": [
        "nested_list_ham = nested_list.loc[doc_ids_ham]\n",
        "nested_list_spam = nested_list.loc[doc_ids_spam]"
      ],
      "id": "deacc226-0112-4b8c-80d4-18fa854dd847",
      "execution_count": null,
      "outputs": []
    },
    {
      "cell_type": "code",
      "metadata": {
        "id": "9cb012c4-c2b3-4fc7-9077-0dafe4ddafa2"
      },
      "source": [
        "flat_list_ham = [item for sublist in nested_list_ham for item in sublist]\n",
        "normal_words = pd.Series(flat_list_ham).value_counts()\n",
        "\n",
        "normal_words.shape[0] #total no.of unique words in non-spam messages\n"
      ],
      "id": "9cb012c4-c2b3-4fc7-9077-0dafe4ddafa2",
      "execution_count": null,
      "outputs": []
    },
    {
      "cell_type": "code",
      "metadata": {
        "id": "24ddf41e-0a8d-42f9-a3d6-351cc290d89c"
      },
      "source": [
        "normal_words[:10]"
      ],
      "id": "24ddf41e-0a8d-42f9-a3d6-351cc290d89c",
      "execution_count": null,
      "outputs": []
    },
    {
      "cell_type": "code",
      "metadata": {
        "id": "c9e207a0-8701-4ede-87ff-d1e15b38d3d3"
      },
      "source": [
        "flat_list_spam = [item for sublist in nested_list_spam for item in sublist]\n",
        "spammy_words = pd.Series(flat_list_spam).value_counts()\n",
        "\n",
        "spammy_words.shape[0] #total no.of unique words in spam messages\n"
      ],
      "id": "c9e207a0-8701-4ede-87ff-d1e15b38d3d3",
      "execution_count": null,
      "outputs": []
    },
    {
      "cell_type": "code",
      "metadata": {
        "id": "fe31ac4a-aeb3-44c1-b021-b13e3a1cddca"
      },
      "source": [
        "spammy_words[:10]"
      ],
      "id": "fe31ac4a-aeb3-44c1-b021-b13e3a1cddca",
      "execution_count": null,
      "outputs": []
    },
    {
      "cell_type": "markdown",
      "metadata": {
        "id": "3da8f768-82f3-4345-837f-0cfd8f2d8f39"
      },
      "source": [
        "**#Creating a Wordcloud**"
      ],
      "id": "3da8f768-82f3-4345-837f-0cfd8f2d8f39"
    },
    {
      "cell_type": "code",
      "metadata": {
        "id": "28cc09c9-d8d4-4a9d-a017-1ad064d55fa0"
      },
      "source": [
        "word_cloud = WordCloud().generate(email_body)\n",
        "plt.imshow(word_cloud, interpolation='bilinear')\n",
        "plt.axis('off')\n",
        "plt.show()"
      ],
      "id": "28cc09c9-d8d4-4a9d-a017-1ad064d55fa0",
      "execution_count": null,
      "outputs": []
    },
    {
      "cell_type": "code",
      "metadata": {
        "id": "dd3e0930-0c69-422c-9d90-5a2a607904a7"
      },
      "source": [
        "example_corpus = nltk.corpus.gutenberg.words('melville-moby_dick.txt')"
      ],
      "id": "dd3e0930-0c69-422c-9d90-5a2a607904a7",
      "execution_count": null,
      "outputs": []
    },
    {
      "cell_type": "code",
      "metadata": {
        "id": "f1933d71-9077-46c7-b1d0-acea0377cf8a"
      },
      "source": [
        "word_list = [''.join(word) for word in example_corpus]\n",
        "novel_as_string = ' '.join(word_list)"
      ],
      "id": "f1933d71-9077-46c7-b1d0-acea0377cf8a",
      "execution_count": null,
      "outputs": []
    },
    {
      "cell_type": "code",
      "metadata": {
        "id": "255b3058-3412-45da-ab15-13853f8da767"
      },
      "source": [
        "icon = Image.open(WHALE_FILE)\n",
        "image_mask = Image.new(mode='RGB', size=icon.size, color=(255,255,255))\n",
        "image_mask.paste(icon, box=icon)\n",
        "\n",
        "rgb_array = np.array(image_mask) #converts image object to an array.\n",
        "\n",
        "word_cloud = WordCloud(mask=rgb_array, background_color='cyan',max_words=100, colormap='ocean')\n",
        "word_cloud.generate(novel_as_string)\n",
        "\n",
        "plt.figure(figsize=[16, 8])\n",
        "plt.imshow(word_cloud, interpolation='bilinear')\n",
        "plt.axis('off')\n",
        "plt.show()"
      ],
      "id": "255b3058-3412-45da-ab15-13853f8da767",
      "execution_count": null,
      "outputs": []
    },
    {
      "cell_type": "code",
      "metadata": {
        "id": "c646e16a-2a14-4d47-89f4-2f9c85edd1d0"
      },
      "source": [
        "hamlet_corpus = nltk.corpus.gutenberg.words('shakespeare-hamlet.txt')\n",
        "word_list = [''.join(word) for word in hamlet_corpus]\n",
        "hamlet_as_string = ' '.join(word_list)\n",
        "\n",
        "skull_icon = Image.open(SKULL_FILE)\n",
        "image_mask = Image.new(mode='RGB', size=skull_icon.size, color=(255, 255, 255))\n",
        "image_mask.paste(skull_icon, box=skull_icon)\n",
        "rgb_array = np.array(image_mask)\n",
        "\n",
        "word_cloud = WordCloud(mask=rgb_array, background_color='white', colormap='bone', max_words=600)\n",
        "word_cloud.generate(hamlet_as_string)\n",
        "\n",
        "plt.figure(figsize=[16, 8])\n",
        "plt.imshow(word_cloud, interpolation='bilinear')\n",
        "plt.axis('off')\n",
        "plt.show()"
      ],
      "id": "c646e16a-2a14-4d47-89f4-2f9c85edd1d0",
      "execution_count": null,
      "outputs": []
    },
    {
      "cell_type": "markdown",
      "metadata": {
        "id": "fe8832b7-8de5-4d59-a585-c231ca75d065"
      },
      "source": [
        "**#WORD CLOUD OF HAM AND SPAM MESSAGES**"
      ],
      "id": "fe8832b7-8de5-4d59-a585-c231ca75d065"
    },
    {
      "cell_type": "code",
      "metadata": {
        "id": "d6bd4a94-30c9-4c49-b27f-17b22567aa92"
      },
      "source": [
        "icon = Image.open(THUMBS_UP)\n",
        "image_mask = Image.new(mode='RGB', size=icon.size, color=(255,255,255))\n",
        "image_mask.paste(icon, box=icon)\n",
        "\n",
        "rgb_array = np.array(image_mask) #converts image object to an array.\n",
        "\n",
        "ham_str = ' '.join(flat_list_ham)\n",
        "\n",
        "word_cloud = WordCloud(mask=rgb_array, background_color='black',max_words=500, colormap='winter')\n",
        "word_cloud.generate(ham_str)\n",
        "\n",
        "plt.figure(figsize=[16, 8])\n",
        "plt.imshow(word_cloud, interpolation='bilinear')\n",
        "plt.axis('off')\n",
        "plt.show()"
      ],
      "id": "d6bd4a94-30c9-4c49-b27f-17b22567aa92",
      "execution_count": null,
      "outputs": []
    },
    {
      "cell_type": "code",
      "metadata": {
        "id": "a90ab522-68c9-4b65-8675-43b78cd3777f"
      },
      "source": [
        "icon = Image.open(THUMBS_DOWN)\n",
        "image_mask = Image.new(mode='RGB', size=icon.size, color=(255,255,255))\n",
        "image_mask.paste(icon, box=icon)\n",
        "\n",
        "rgb_array = np.array(image_mask) #converts image object to an array.\n",
        "\n",
        "spam_str = ' '.join(flat_list_spam)\n",
        "\n",
        "word_cloud = WordCloud(mask=rgb_array, background_color='white',max_words=500, colormap='gist_heat')\n",
        "word_cloud.generate(spam_str)\n",
        "\n",
        "plt.figure(figsize=[16, 8])\n",
        "plt.imshow(word_cloud, interpolation='bilinear')\n",
        "plt.axis('off')\n",
        "plt.show()"
      ],
      "id": "a90ab522-68c9-4b65-8675-43b78cd3777f",
      "execution_count": null,
      "outputs": []
    },
    {
      "cell_type": "markdown",
      "metadata": {
        "id": "5d8596b5-994a-4011-9cb0-d8b6fe9550cd"
      },
      "source": [
        "**#GENERATE VOCABULARY AND DICTIONARY**"
      ],
      "id": "5d8596b5-994a-4011-9cb0-d8b6fe9550cd"
    },
    {
      "cell_type": "code",
      "metadata": {
        "id": "28535c67-7bd5-4c07-a881-541009dd30a5"
      },
      "source": [
        "stemmed_nested_list = data.MESSAGE.apply(clean_message_no_html)\n",
        "flat_stemmed_list = (item for sublist in stemmed_nested_list for item in sublist)"
      ],
      "id": "28535c67-7bd5-4c07-a881-541009dd30a5",
      "execution_count": null,
      "outputs": []
    },
    {
      "cell_type": "code",
      "metadata": {
        "id": "Gv8fmY0XzL7Z"
      },
      "source": [],
      "id": "Gv8fmY0XzL7Z",
      "execution_count": null,
      "outputs": []
    },
    {
      "cell_type": "code",
      "metadata": {
        "id": "64d7cdad-596a-4e95-8d28-b92092b29117"
      },
      "source": [
        "unique_words = pd.Series(flat_stemmed_list).value_counts()\n",
        "print(\"No.of unique words :\", unique_words.shape[0])"
      ],
      "id": "64d7cdad-596a-4e95-8d28-b92092b29117",
      "execution_count": null,
      "outputs": []
    },
    {
      "cell_type": "code",
      "metadata": {
        "id": "0c6ae62e-6186-4927-9a18-c848ad6c235d"
      },
      "source": [
        "frequent_words = unique_words[0:VOCAB_SIZE]\n",
        "print('Most common words :', frequent_words[:10])"
      ],
      "id": "0c6ae62e-6186-4927-9a18-c848ad6c235d",
      "execution_count": null,
      "outputs": []
    },
    {
      "cell_type": "markdown",
      "metadata": {
        "id": "6af93a56-62f5-49e7-ba1e-a7a4c157a8fa"
      },
      "source": [
        "**#CREATE VOCABULARY DATAFRAME WITH WORD IDS**"
      ],
      "id": "6af93a56-62f5-49e7-ba1e-a7a4c157a8fa"
    },
    {
      "cell_type": "code",
      "metadata": {
        "id": "bc574eea-bde5-4170-954b-2179715dd41c"
      },
      "source": [
        "word_ids = list(range(0, VOCAB_SIZE))\n",
        "vocab = pd.DataFrame({'VOCAB_WORD': frequent_words.index.values}, index=word_ids)\n",
        "vocab.index.name = 'WORD_ID'\n",
        "vocab.head()"
      ],
      "id": "bc574eea-bde5-4170-954b-2179715dd41c",
      "execution_count": null,
      "outputs": []
    },
    {
      "cell_type": "markdown",
      "metadata": {
        "id": "1f1170a8-4b2e-47fd-a89c-9a7655a343dd"
      },
      "source": [
        "**SAVES THE VOCABULARY AS A CSV FILE**"
      ],
      "id": "1f1170a8-4b2e-47fd-a89c-9a7655a343dd"
    },
    {
      "cell_type": "code",
      "metadata": {
        "id": "f44b5b9e-4621-4929-ace5-bc7ddca00260"
      },
      "source": [
        "vocab.to_csv(WORD_ID_FILE, index_label=vocab.index.name, header=vocab.VOCAB_WORD.name)"
      ],
      "id": "f44b5b9e-4621-4929-ace5-bc7ddca00260",
      "execution_count": null,
      "outputs": []
    },
    {
      "cell_type": "markdown",
      "metadata": {
        "id": "d6f4c39b-46ab-44b1-824e-08285a04fbf1"
      },
      "source": [
        "**#EXERCISE : CHECKING IF THE WORD EXISTS IN THE VOCABULARY**"
      ],
      "id": "d6f4c39b-46ab-44b1-824e-08285a04fbf1"
    },
    {
      "cell_type": "code",
      "metadata": {
        "id": "be04e861-7453-4482-a52d-7a99f6b931ff"
      },
      "source": [
        "'machine' in set(vocab.VOCAB_WORD)"
      ],
      "id": "be04e861-7453-4482-a52d-7a99f6b931ff",
      "execution_count": null,
      "outputs": []
    },
    {
      "cell_type": "markdown",
      "metadata": {
        "id": "0924d387-f58e-4e1e-8afa-1a3391c9265a"
      },
      "source": [
        "**FINDING EMAIL WITH MOST NO.OF WORDS**"
      ],
      "id": "0924d387-f58e-4e1e-8afa-1a3391c9265a"
    },
    {
      "cell_type": "code",
      "metadata": {
        "id": "8451aa65-0ece-4351-a3dc-141e879c8969"
      },
      "source": [
        "clean_email_length = [len(sublist) for sublist in stemmed_nested_list]\n",
        "print('No.of words in the longest email:', max(clean_email_length))"
      ],
      "id": "8451aa65-0ece-4351-a3dc-141e879c8969",
      "execution_count": null,
      "outputs": []
    },
    {
      "cell_type": "code",
      "metadata": {
        "id": "b450fd11-7335-4c7f-a080-eadb9ef406f2"
      },
      "source": [
        "print('Email position in the list (and the data dataframe):', np.argmax(clean_email_length))"
      ],
      "id": "b450fd11-7335-4c7f-a080-eadb9ef406f2",
      "execution_count": null,
      "outputs": []
    },
    {
      "cell_type": "code",
      "metadata": {
        "id": "3e3f25cd-cb70-4e39-ba39-d68509210f24"
      },
      "source": [
        "stemmed_nested_list[5778]"
      ],
      "id": "3e3f25cd-cb70-4e39-ba39-d68509210f24",
      "execution_count": null,
      "outputs": []
    },
    {
      "cell_type": "code",
      "metadata": {
        "id": "3d7dc5ae-977b-4284-87be-64dcbd069747"
      },
      "source": [
        "data.at[np.argmax(clean_email_length), 'MESSAGE']"
      ],
      "id": "3d7dc5ae-977b-4284-87be-64dcbd069747",
      "execution_count": null,
      "outputs": []
    },
    {
      "cell_type": "markdown",
      "metadata": {
        "id": "6b6c3525-3df3-474a-83ad-052271185a70"
      },
      "source": [
        "**#GENERATE FEATURES AND SPARSE MATRIX**\n",
        "\n",
        "**Creating a Dataframe with One Word Per column**"
      ],
      "id": "6b6c3525-3df3-474a-83ad-052271185a70"
    },
    {
      "cell_type": "code",
      "metadata": {
        "id": "8a60e64a-8037-4d15-a939-6d924d34fe29"
      },
      "source": [
        "type(stemmed_nested_list)"
      ],
      "id": "8a60e64a-8037-4d15-a939-6d924d34fe29",
      "execution_count": null,
      "outputs": []
    },
    {
      "cell_type": "code",
      "metadata": {
        "id": "e6693977-d014-41c8-9583-f25b5a635ca4"
      },
      "source": [
        "type(stemmed_nested_list.tolist())"
      ],
      "id": "e6693977-d014-41c8-9583-f25b5a635ca4",
      "execution_count": null,
      "outputs": []
    },
    {
      "cell_type": "code",
      "metadata": {
        "id": "4b14f63a-6099-4b86-b4b1-ccacf58858a1"
      },
      "source": [
        "word_columns_df = pd.DataFrame.from_records(stemmed_nested_list.tolist())\n",
        "word_columns_df.head()"
      ],
      "id": "4b14f63a-6099-4b86-b4b1-ccacf58858a1",
      "execution_count": null,
      "outputs": []
    },
    {
      "cell_type": "markdown",
      "metadata": {
        "id": "83c072b7-3a1d-45b4-9d42-5f4c078e172c"
      },
      "source": [
        "**#SPLITTING THE DATA INTO TRAINING AND TESTING DATASET**"
      ],
      "id": "83c072b7-3a1d-45b4-9d42-5f4c078e172c"
    },
    {
      "cell_type": "code",
      "metadata": {
        "id": "b075aa0f-6754-4fa4-81dd-3daa3193c498"
      },
      "source": [
        "x_train, x_test, y_train, y_test = train_test_split(word_columns_df, data.CATEGORY, test_size=0.3, random_state=42)"
      ],
      "id": "b075aa0f-6754-4fa4-81dd-3daa3193c498",
      "execution_count": null,
      "outputs": []
    },
    {
      "cell_type": "code",
      "metadata": {
        "id": "02cfddfc-dd72-463a-9114-52f8afe24687"
      },
      "source": [
        "print('No.of training samples', x_train.shape[0])\n",
        "print('Fraction of training set', x_train.shape[0] / word_columns_df.shape[0])"
      ],
      "id": "02cfddfc-dd72-463a-9114-52f8afe24687",
      "execution_count": null,
      "outputs": []
    },
    {
      "cell_type": "code",
      "metadata": {
        "id": "c02690e5-da30-487f-bcc5-d530e3dcdd89"
      },
      "source": [
        "x_train.index.name = x_test.index.name = 'DOC_ID'\n",
        "x_train.head()"
      ],
      "id": "c02690e5-da30-487f-bcc5-d530e3dcdd89",
      "execution_count": null,
      "outputs": []
    },
    {
      "cell_type": "code",
      "metadata": {
        "id": "aa4286fd-f206-4720-af74-49e17a061bcc"
      },
      "source": [
        "y_train.head()"
      ],
      "id": "aa4286fd-f206-4720-af74-49e17a061bcc",
      "execution_count": null,
      "outputs": []
    },
    {
      "cell_type": "markdown",
      "metadata": {
        "id": "f8f0c9f6-9dc7-45e0-8626-5ef6fc45a19e"
      },
      "source": [
        "**#CREATE A SPARSE MATRIX FOR TRAINING DATA**"
      ],
      "id": "f8f0c9f6-9dc7-45e0-8626-5ef6fc45a19e"
    },
    {
      "cell_type": "code",
      "metadata": {
        "id": "706ca9f2-00a9-47f9-a880-250d576a94a8"
      },
      "source": [
        "word_index = pd.Index(vocab.VOCAB_WORD)"
      ],
      "id": "706ca9f2-00a9-47f9-a880-250d576a94a8",
      "execution_count": null,
      "outputs": []
    },
    {
      "cell_type": "code",
      "metadata": {
        "id": "824aa5ee-4925-491a-a1ae-382fcc74c885"
      },
      "source": [
        "def make_sparse_matrix(df, indexed_words, labels):\n",
        "    \"\"\"\n",
        "       Returns Sparse Matrix as dataframe.\n",
        "    \n",
        "       df: is a data frame with words in column with a document id as an index (x_train or x_test)\n",
        "       indexed_words: index of words ordered by word id\n",
        "       labels: category as a series (y_train or y_test)\n",
        "    \"\"\"\n",
        "    nr_rows = df.shape[0]\n",
        "    nr_cols = df.shape[0]\n",
        "    word_set = set(indexed_words)\n",
        "    dict_list = []\n",
        "    \n",
        "    for i in range(nr_rows):\n",
        "        for j in range(nr_cols):\n",
        "            word = df.iat[i, j]\n",
        "            if word in word_set:\n",
        "                doc_id = df.index[i]\n",
        "                word_id = indexed_words.get_loc(word)\n",
        "                category = labels.at[doc_id]\n",
        "                \n",
        "                item = {'LABEL': category, 'DOC_ID': doc_id, 'OCCURENCE': 1, 'WORD_ID': word_id}\n",
        "                \n",
        "                dict_list.append(item)\n",
        "    \n",
        "    return pd.DataFrame(dict_list)"
      ],
      "id": "824aa5ee-4925-491a-a1ae-382fcc74c885",
      "execution_count": null,
      "outputs": []
    },
    {
      "cell_type": "code",
      "metadata": {
        "id": "53999f49-d35f-4d53-863f-7f6efa0706ed"
      },
      "source": [
        "%%time \n",
        "sparse_train_df = make_sparse_matrix(x_train, word_index, y_train)"
      ],
      "id": "53999f49-d35f-4d53-863f-7f6efa0706ed",
      "execution_count": null,
      "outputs": []
    },
    {
      "cell_type": "code",
      "metadata": {
        "id": "774d28f2-f9d9-4fcd-a050-42431f09f43d"
      },
      "source": [
        "sparse_train_df[:5]"
      ],
      "id": "774d28f2-f9d9-4fcd-a050-42431f09f43d",
      "execution_count": null,
      "outputs": []
    },
    {
      "cell_type": "code",
      "metadata": {
        "id": "66b9ffde-01de-436d-b90b-3a1f05804e51"
      },
      "source": [
        "sparse_train_df.shape"
      ],
      "id": "66b9ffde-01de-436d-b90b-3a1f05804e51",
      "execution_count": null,
      "outputs": []
    },
    {
      "cell_type": "code",
      "metadata": {
        "id": "85648efe-9759-41db-8653-5f4f11c3cd92"
      },
      "source": [
        "sparse_train_df[-5:]"
      ],
      "id": "85648efe-9759-41db-8653-5f4f11c3cd92",
      "execution_count": null,
      "outputs": []
    },
    {
      "cell_type": "markdown",
      "metadata": {
        "id": "dd623a4f-b339-4f34-91e4-ca05748bd0ed"
      },
      "source": [
        "**#COMBINE OCCURENCES WITH PANDAS GROUPBY METHOD**"
      ],
      "id": "dd623a4f-b339-4f34-91e4-ca05748bd0ed"
    },
    {
      "cell_type": "code",
      "metadata": {
        "id": "5f21ceed-ea48-4e94-90fb-8b1ee1a898f4"
      },
      "source": [
        "train_grouped = sparse_train_df.groupby(['DOC_ID', 'WORD_ID','LABEL']).sum()\n",
        "train_grouped.head()"
      ],
      "id": "5f21ceed-ea48-4e94-90fb-8b1ee1a898f4",
      "execution_count": null,
      "outputs": []
    },
    {
      "cell_type": "code",
      "metadata": {
        "id": "f71f97a6-2a4c-4b4e-a87a-7665e80da907"
      },
      "source": [
        "vocab.at[0, 'VOCAB_WORD']"
      ],
      "id": "f71f97a6-2a4c-4b4e-a87a-7665e80da907",
      "execution_count": null,
      "outputs": []
    },
    {
      "cell_type": "code",
      "metadata": {
        "id": "533186d0-9d11-4e59-abe8-d70a401c481d"
      },
      "source": [
        "data.MESSAGE[0]"
      ],
      "id": "533186d0-9d11-4e59-abe8-d70a401c481d",
      "execution_count": null,
      "outputs": []
    },
    {
      "cell_type": "code",
      "metadata": {
        "id": "6efb1773-52a6-459a-ba14-0e252fb18bb6"
      },
      "source": [
        "train_grouped = train_grouped.reset_index()\n",
        "train_grouped.head()"
      ],
      "id": "6efb1773-52a6-459a-ba14-0e252fb18bb6",
      "execution_count": null,
      "outputs": []
    },
    {
      "cell_type": "code",
      "metadata": {
        "id": "3441a3ac-dfdc-4df0-8be4-0b2d718d0f55"
      },
      "source": [
        "train_grouped.tail()"
      ],
      "id": "3441a3ac-dfdc-4df0-8be4-0b2d718d0f55",
      "execution_count": null,
      "outputs": []
    },
    {
      "cell_type": "code",
      "metadata": {
        "id": "5b40655d-c260-423e-9d97-cdad243da1de"
      },
      "source": [
        "vocab.at[2033, 'VOCAB_WORD']"
      ],
      "id": "5b40655d-c260-423e-9d97-cdad243da1de",
      "execution_count": null,
      "outputs": []
    },
    {
      "cell_type": "code",
      "metadata": {
        "id": "ee4416e3-f586-4bc2-9e83-7eb222f4a91c"
      },
      "source": [
        "data.MESSAGE[5798]"
      ],
      "id": "ee4416e3-f586-4bc2-9e83-7eb222f4a91c",
      "execution_count": null,
      "outputs": []
    },
    {
      "cell_type": "code",
      "metadata": {
        "id": "ef722a5a-54fc-4ea3-880d-f733ac45ca35"
      },
      "source": [
        "train_grouped.shape"
      ],
      "id": "ef722a5a-54fc-4ea3-880d-f733ac45ca35",
      "execution_count": null,
      "outputs": []
    },
    {
      "cell_type": "markdown",
      "metadata": {
        "id": "7295ef88-ae8e-4d41-827a-72df9c6c46a2"
      },
      "source": [
        "**#SAVING TRAINING DATA AS .txt FILE**"
      ],
      "id": "7295ef88-ae8e-4d41-827a-72df9c6c46a2"
    },
    {
      "cell_type": "code",
      "metadata": {
        "id": "1b9592d9-efb3-48ad-bd5e-66a6117aae40"
      },
      "source": [
        "np.savetxt(TRAINING_DATA_FILE, train_grouped, fmt='%d')"
      ],
      "id": "1b9592d9-efb3-48ad-bd5e-66a6117aae40",
      "execution_count": null,
      "outputs": []
    },
    {
      "cell_type": "code",
      "metadata": {
        "id": "5b635ef4-bdd1-4626-ab77-532179a00a54"
      },
      "source": [
        "train_grouped.columns"
      ],
      "id": "5b635ef4-bdd1-4626-ab77-532179a00a54",
      "execution_count": null,
      "outputs": []
    },
    {
      "cell_type": "code",
      "metadata": {
        "id": "b68a9eb4-9e99-44e2-8a51-03f723b945df"
      },
      "source": [
        "x_test.head()"
      ],
      "id": "b68a9eb4-9e99-44e2-8a51-03f723b945df",
      "execution_count": null,
      "outputs": []
    },
    {
      "cell_type": "code",
      "metadata": {
        "id": "b55d7b8c-8543-446c-9dbb-94f57ca8a9ff"
      },
      "source": [
        "y_test.head()"
      ],
      "id": "b55d7b8c-8543-446c-9dbb-94f57ca8a9ff",
      "execution_count": null,
      "outputs": []
    },
    {
      "cell_type": "code",
      "metadata": {
        "id": "842dac0a-080c-4e17-b982-d0f19d8a58e8"
      },
      "source": [
        "x_test.shape"
      ],
      "id": "842dac0a-080c-4e17-b982-d0f19d8a58e8",
      "execution_count": null,
      "outputs": []
    },
    {
      "cell_type": "code",
      "metadata": {
        "id": "67042ace-1599-4d83-95df-bab1a99f63e0"
      },
      "source": [
        "%%time\n",
        "sparse_test_df = make_sparse_matrix(x_test, word_index, y_test)"
      ],
      "id": "67042ace-1599-4d83-95df-bab1a99f63e0",
      "execution_count": null,
      "outputs": []
    },
    {
      "cell_type": "code",
      "metadata": {
        "id": "48734ed9-d687-4af3-a3c8-c19a7ffe8c12"
      },
      "source": [
        "sparse_test_df.shape"
      ],
      "id": "48734ed9-d687-4af3-a3c8-c19a7ffe8c12",
      "execution_count": null,
      "outputs": []
    },
    {
      "cell_type": "code",
      "metadata": {
        "id": "57299f9e-842f-4cb1-8471-18027c58f999"
      },
      "source": [
        "test_grouped = sparse_test_df.groupby(['DOC_ID', 'WORD_ID', 'LABEL']).sum().reset_index()\n",
        "test_grouped.head()"
      ],
      "id": "57299f9e-842f-4cb1-8471-18027c58f999",
      "execution_count": null,
      "outputs": []
    },
    {
      "cell_type": "code",
      "metadata": {
        "id": "382f9c35-af36-4356-ac71-6059dff5c18f"
      },
      "source": [
        "test_grouped.shape"
      ],
      "id": "382f9c35-af36-4356-ac71-6059dff5c18f",
      "execution_count": null,
      "outputs": []
    },
    {
      "cell_type": "code",
      "metadata": {
        "id": "ce74e243-9262-4ffd-b256-3b475687a8a3"
      },
      "source": [
        "np.savetxt(TEST_DATA_FILE, test_grouped, fmt='%d')"
      ],
      "id": "ce74e243-9262-4ffd-b256-3b475687a8a3",
      "execution_count": null,
      "outputs": []
    },
    {
      "cell_type": "code",
      "metadata": {
        "id": "80efaf40-bd6c-4d79-852a-0cf360bd0aa5"
      },
      "source": [],
      "id": "80efaf40-bd6c-4d79-852a-0cf360bd0aa5",
      "execution_count": null,
      "outputs": []
    }
  ]
}